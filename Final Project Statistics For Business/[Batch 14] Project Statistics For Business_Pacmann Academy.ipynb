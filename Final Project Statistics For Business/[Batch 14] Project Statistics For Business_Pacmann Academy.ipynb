{
 "cells": [
  {
   "cell_type": "markdown",
   "metadata": {},
   "source": [
    "# **FINAL PROJECT STATISTICS FOR BUSINESS - Pacmann Academy**\n",
    "## Dharmayuda Febrianto - ADS Batch 14\n",
    "---"
   ]
  },
  {
   "cell_type": "markdown",
   "metadata": {},
   "source": [
    "## **1. Import Packages**"
   ]
  },
  {
   "cell_type": "code",
   "execution_count": 65,
   "metadata": {},
   "outputs": [],
   "source": [
    "# load data\n",
    "import pandas as pd\n",
    "import numpy as np\n",
    "\n",
    "# visualization\n",
    "import matplotlib.pyplot as plt\n",
    "import seaborn as sns\n",
    "from matplotlib.gridspec import GridSpec\n",
    "\n",
    "# modelling\n",
    "import statsmodels.formula.api as smf\n",
    "import statsmodels.api as sm\n",
    "\n",
    "# Estimator\n",
    "from sklearn.base import BaseEstimator, RegressorMixin\n",
    "\n",
    "# Performance Metrics\n",
    "from sklearn.metrics import r2_score\n",
    "\n",
    "# Cross Validation\n",
    "from sklearn.model_selection import cross_val_score, cross_validate, KFold\n",
    "\n",
    "# Regreting Warnings\n",
    "import warnings\n",
    "warnings.filterwarnings(\"ignore\")"
   ]
  },
  {
   "cell_type": "markdown",
   "metadata": {},
   "source": [
    "## **Load Data**"
   ]
  },
  {
   "cell_type": "code",
   "execution_count": 66,
   "metadata": {},
   "outputs": [
    {
     "data": {
      "text/html": [
       "<div>\n",
       "<style scoped>\n",
       "    .dataframe tbody tr th:only-of-type {\n",
       "        vertical-align: middle;\n",
       "    }\n",
       "\n",
       "    .dataframe tbody tr th {\n",
       "        vertical-align: top;\n",
       "    }\n",
       "\n",
       "    .dataframe thead th {\n",
       "        text-align: right;\n",
       "    }\n",
       "</style>\n",
       "<table border=\"1\" class=\"dataframe\">\n",
       "  <thead>\n",
       "    <tr style=\"text-align: right;\">\n",
       "      <th></th>\n",
       "      <th>Age</th>\n",
       "      <th>Gender</th>\n",
       "      <th>EducationLevel</th>\n",
       "      <th>Job Title</th>\n",
       "      <th>YearsOfExperience</th>\n",
       "      <th>Salary</th>\n",
       "    </tr>\n",
       "  </thead>\n",
       "  <tbody>\n",
       "    <tr>\n",
       "      <th>0</th>\n",
       "      <td>32.0</td>\n",
       "      <td>Male</td>\n",
       "      <td>Bachelor's</td>\n",
       "      <td>Software Engineer</td>\n",
       "      <td>5.0</td>\n",
       "      <td>90000.0</td>\n",
       "    </tr>\n",
       "    <tr>\n",
       "      <th>1</th>\n",
       "      <td>28.0</td>\n",
       "      <td>Female</td>\n",
       "      <td>Master's</td>\n",
       "      <td>Data Analyst</td>\n",
       "      <td>3.0</td>\n",
       "      <td>65000.0</td>\n",
       "    </tr>\n",
       "    <tr>\n",
       "      <th>2</th>\n",
       "      <td>45.0</td>\n",
       "      <td>Male</td>\n",
       "      <td>PhD</td>\n",
       "      <td>Senior Manager</td>\n",
       "      <td>15.0</td>\n",
       "      <td>150000.0</td>\n",
       "    </tr>\n",
       "    <tr>\n",
       "      <th>3</th>\n",
       "      <td>36.0</td>\n",
       "      <td>Female</td>\n",
       "      <td>Bachelor's</td>\n",
       "      <td>Sales Associate</td>\n",
       "      <td>7.0</td>\n",
       "      <td>60000.0</td>\n",
       "    </tr>\n",
       "    <tr>\n",
       "      <th>4</th>\n",
       "      <td>52.0</td>\n",
       "      <td>Male</td>\n",
       "      <td>Master's</td>\n",
       "      <td>Director</td>\n",
       "      <td>20.0</td>\n",
       "      <td>200000.0</td>\n",
       "    </tr>\n",
       "  </tbody>\n",
       "</table>\n",
       "</div>"
      ],
      "text/plain": [
       "    Age  Gender EducationLevel          Job Title  YearsOfExperience    Salary\n",
       "0  32.0    Male     Bachelor's  Software Engineer                5.0   90000.0\n",
       "1  28.0  Female       Master's       Data Analyst                3.0   65000.0\n",
       "2  45.0    Male            PhD     Senior Manager               15.0  150000.0\n",
       "3  36.0  Female     Bachelor's    Sales Associate                7.0   60000.0\n",
       "4  52.0    Male       Master's           Director               20.0  200000.0"
      ]
     },
     "execution_count": 66,
     "metadata": {},
     "output_type": "execute_result"
    }
   ],
   "source": [
    "salary = pd.read_csv('Salary Data.csv')\n",
    "salary.rename(columns = {'Education Level':'EducationLevel', 'Years of Experience':'YearsOfExperience'}, inplace=True)\n",
    "salary.head()"
   ]
  },
  {
   "cell_type": "markdown",
   "metadata": {},
   "source": [
    "## **2. Data Wrangling, Data Cleaning, Data Manipulation, Data Preprocessing**"
   ]
  },
  {
   "cell_type": "code",
   "execution_count": 67,
   "metadata": {},
   "outputs": [
    {
     "data": {
      "text/plain": [
       "(375, 6)"
      ]
     },
     "execution_count": 67,
     "metadata": {},
     "output_type": "execute_result"
    }
   ],
   "source": [
    "salary.shape"
   ]
  },
  {
   "cell_type": "code",
   "execution_count": 68,
   "metadata": {},
   "outputs": [
    {
     "name": "stdout",
     "output_type": "stream",
     "text": [
      "<class 'pandas.core.frame.DataFrame'>\n",
      "RangeIndex: 375 entries, 0 to 374\n",
      "Data columns (total 6 columns):\n",
      " #   Column             Non-Null Count  Dtype  \n",
      "---  ------             --------------  -----  \n",
      " 0   Age                373 non-null    float64\n",
      " 1   Gender             373 non-null    object \n",
      " 2   EducationLevel     373 non-null    object \n",
      " 3   Job Title          373 non-null    object \n",
      " 4   YearsOfExperience  373 non-null    float64\n",
      " 5   Salary             373 non-null    float64\n",
      "dtypes: float64(3), object(3)\n",
      "memory usage: 17.7+ KB\n"
     ]
    }
   ],
   "source": [
    "salary.info()"
   ]
  },
  {
   "cell_type": "code",
   "execution_count": 69,
   "metadata": {},
   "outputs": [
    {
     "data": {
      "text/html": [
       "<div>\n",
       "<style scoped>\n",
       "    .dataframe tbody tr th:only-of-type {\n",
       "        vertical-align: middle;\n",
       "    }\n",
       "\n",
       "    .dataframe tbody tr th {\n",
       "        vertical-align: top;\n",
       "    }\n",
       "\n",
       "    .dataframe thead th {\n",
       "        text-align: right;\n",
       "    }\n",
       "</style>\n",
       "<table border=\"1\" class=\"dataframe\">\n",
       "  <thead>\n",
       "    <tr style=\"text-align: right;\">\n",
       "      <th></th>\n",
       "      <th>column_name</th>\n",
       "      <th>value</th>\n",
       "    </tr>\n",
       "  </thead>\n",
       "  <tbody>\n",
       "    <tr>\n",
       "      <th>0</th>\n",
       "      <td>Age</td>\n",
       "      <td>2</td>\n",
       "    </tr>\n",
       "    <tr>\n",
       "      <th>1</th>\n",
       "      <td>Gender</td>\n",
       "      <td>2</td>\n",
       "    </tr>\n",
       "    <tr>\n",
       "      <th>2</th>\n",
       "      <td>EducationLevel</td>\n",
       "      <td>2</td>\n",
       "    </tr>\n",
       "    <tr>\n",
       "      <th>3</th>\n",
       "      <td>Job Title</td>\n",
       "      <td>2</td>\n",
       "    </tr>\n",
       "    <tr>\n",
       "      <th>4</th>\n",
       "      <td>YearsOfExperience</td>\n",
       "      <td>2</td>\n",
       "    </tr>\n",
       "    <tr>\n",
       "      <th>5</th>\n",
       "      <td>Salary</td>\n",
       "      <td>2</td>\n",
       "    </tr>\n",
       "  </tbody>\n",
       "</table>\n",
       "</div>"
      ],
      "text/plain": [
       "         column_name  value\n",
       "0                Age      2\n",
       "1             Gender      2\n",
       "2     EducationLevel      2\n",
       "3          Job Title      2\n",
       "4  YearsOfExperience      2\n",
       "5             Salary      2"
      ]
     },
     "execution_count": 69,
     "metadata": {},
     "output_type": "execute_result"
    }
   ],
   "source": [
    "# Identifikasi Missing Values\n",
    "salary.isna().sum().to_frame().reset_index().rename(columns={'index':'column_name', 0:'value'})"
   ]
  },
  {
   "cell_type": "code",
   "execution_count": 70,
   "metadata": {},
   "outputs": [
    {
     "data": {
      "text/html": [
       "<div>\n",
       "<style scoped>\n",
       "    .dataframe tbody tr th:only-of-type {\n",
       "        vertical-align: middle;\n",
       "    }\n",
       "\n",
       "    .dataframe tbody tr th {\n",
       "        vertical-align: top;\n",
       "    }\n",
       "\n",
       "    .dataframe thead th {\n",
       "        text-align: right;\n",
       "    }\n",
       "</style>\n",
       "<table border=\"1\" class=\"dataframe\">\n",
       "  <thead>\n",
       "    <tr style=\"text-align: right;\">\n",
       "      <th></th>\n",
       "      <th>Age</th>\n",
       "      <th>Gender</th>\n",
       "      <th>EducationLevel</th>\n",
       "      <th>Job Title</th>\n",
       "      <th>YearsOfExperience</th>\n",
       "      <th>Salary</th>\n",
       "    </tr>\n",
       "  </thead>\n",
       "  <tbody>\n",
       "    <tr>\n",
       "      <th>172</th>\n",
       "      <td>NaN</td>\n",
       "      <td>NaN</td>\n",
       "      <td>NaN</td>\n",
       "      <td>NaN</td>\n",
       "      <td>NaN</td>\n",
       "      <td>NaN</td>\n",
       "    </tr>\n",
       "    <tr>\n",
       "      <th>260</th>\n",
       "      <td>NaN</td>\n",
       "      <td>NaN</td>\n",
       "      <td>NaN</td>\n",
       "      <td>NaN</td>\n",
       "      <td>NaN</td>\n",
       "      <td>NaN</td>\n",
       "    </tr>\n",
       "  </tbody>\n",
       "</table>\n",
       "</div>"
      ],
      "text/plain": [
       "     Age Gender EducationLevel Job Title  YearsOfExperience  Salary\n",
       "172  NaN    NaN            NaN       NaN                NaN     NaN\n",
       "260  NaN    NaN            NaN       NaN                NaN     NaN"
      ]
     },
     "execution_count": 70,
     "metadata": {},
     "output_type": "execute_result"
    }
   ],
   "source": [
    "salary[salary['Gender'].isna()]"
   ]
  },
  {
   "cell_type": "code",
   "execution_count": 71,
   "metadata": {},
   "outputs": [
    {
     "data": {
      "text/html": [
       "<div>\n",
       "<style scoped>\n",
       "    .dataframe tbody tr th:only-of-type {\n",
       "        vertical-align: middle;\n",
       "    }\n",
       "\n",
       "    .dataframe tbody tr th {\n",
       "        vertical-align: top;\n",
       "    }\n",
       "\n",
       "    .dataframe thead th {\n",
       "        text-align: right;\n",
       "    }\n",
       "</style>\n",
       "<table border=\"1\" class=\"dataframe\">\n",
       "  <thead>\n",
       "    <tr style=\"text-align: right;\">\n",
       "      <th></th>\n",
       "      <th>column_name</th>\n",
       "      <th>value</th>\n",
       "    </tr>\n",
       "  </thead>\n",
       "  <tbody>\n",
       "    <tr>\n",
       "      <th>0</th>\n",
       "      <td>Age</td>\n",
       "      <td>0</td>\n",
       "    </tr>\n",
       "    <tr>\n",
       "      <th>1</th>\n",
       "      <td>Gender</td>\n",
       "      <td>0</td>\n",
       "    </tr>\n",
       "    <tr>\n",
       "      <th>2</th>\n",
       "      <td>EducationLevel</td>\n",
       "      <td>0</td>\n",
       "    </tr>\n",
       "    <tr>\n",
       "      <th>3</th>\n",
       "      <td>Job Title</td>\n",
       "      <td>0</td>\n",
       "    </tr>\n",
       "    <tr>\n",
       "      <th>4</th>\n",
       "      <td>YearsOfExperience</td>\n",
       "      <td>0</td>\n",
       "    </tr>\n",
       "    <tr>\n",
       "      <th>5</th>\n",
       "      <td>Salary</td>\n",
       "      <td>0</td>\n",
       "    </tr>\n",
       "  </tbody>\n",
       "</table>\n",
       "</div>"
      ],
      "text/plain": [
       "         column_name  value\n",
       "0                Age      0\n",
       "1             Gender      0\n",
       "2     EducationLevel      0\n",
       "3          Job Title      0\n",
       "4  YearsOfExperience      0\n",
       "5             Salary      0"
      ]
     },
     "execution_count": 71,
     "metadata": {},
     "output_type": "execute_result"
    }
   ],
   "source": [
    "# Drop Missing Values\n",
    "salary = salary.dropna()\n",
    "\n",
    "# Re-check Missing Values\n",
    "salary.isna().sum().to_frame().reset_index().rename(columns={'index':'column_name', 0:'value'})"
   ]
  },
  {
   "cell_type": "code",
   "execution_count": 72,
   "metadata": {},
   "outputs": [
    {
     "data": {
      "text/plain": [
       "49"
      ]
     },
     "execution_count": 72,
     "metadata": {},
     "output_type": "execute_result"
    }
   ],
   "source": [
    "# Identifikasi Jumlah Duplicated Values\n",
    "salary.duplicated().sum()"
   ]
  },
  {
   "cell_type": "code",
   "execution_count": 73,
   "metadata": {},
   "outputs": [
    {
     "data": {
      "text/html": [
       "<div>\n",
       "<style scoped>\n",
       "    .dataframe tbody tr th:only-of-type {\n",
       "        vertical-align: middle;\n",
       "    }\n",
       "\n",
       "    .dataframe tbody tr th {\n",
       "        vertical-align: top;\n",
       "    }\n",
       "\n",
       "    .dataframe thead th {\n",
       "        text-align: right;\n",
       "    }\n",
       "</style>\n",
       "<table border=\"1\" class=\"dataframe\">\n",
       "  <thead>\n",
       "    <tr style=\"text-align: right;\">\n",
       "      <th></th>\n",
       "      <th>Age</th>\n",
       "      <th>Gender</th>\n",
       "      <th>EducationLevel</th>\n",
       "      <th>Job Title</th>\n",
       "      <th>YearsOfExperience</th>\n",
       "      <th>Salary</th>\n",
       "    </tr>\n",
       "  </thead>\n",
       "  <tbody>\n",
       "    <tr>\n",
       "      <th>140</th>\n",
       "      <td>28.0</td>\n",
       "      <td>Male</td>\n",
       "      <td>Bachelor's</td>\n",
       "      <td>Junior Business Analyst</td>\n",
       "      <td>2.0</td>\n",
       "      <td>40000.0</td>\n",
       "    </tr>\n",
       "    <tr>\n",
       "      <th>195</th>\n",
       "      <td>28.0</td>\n",
       "      <td>Male</td>\n",
       "      <td>Bachelor's</td>\n",
       "      <td>Junior Business Analyst</td>\n",
       "      <td>2.0</td>\n",
       "      <td>40000.0</td>\n",
       "    </tr>\n",
       "    <tr>\n",
       "      <th>209</th>\n",
       "      <td>30.0</td>\n",
       "      <td>Female</td>\n",
       "      <td>Bachelor's</td>\n",
       "      <td>Junior Marketing Coordinator</td>\n",
       "      <td>2.0</td>\n",
       "      <td>40000.0</td>\n",
       "    </tr>\n",
       "    <tr>\n",
       "      <th>210</th>\n",
       "      <td>38.0</td>\n",
       "      <td>Male</td>\n",
       "      <td>Master's</td>\n",
       "      <td>Senior IT Consultant</td>\n",
       "      <td>9.0</td>\n",
       "      <td>110000.0</td>\n",
       "    </tr>\n",
       "    <tr>\n",
       "      <th>211</th>\n",
       "      <td>45.0</td>\n",
       "      <td>Female</td>\n",
       "      <td>PhD</td>\n",
       "      <td>Senior Product Designer</td>\n",
       "      <td>15.0</td>\n",
       "      <td>150000.0</td>\n",
       "    </tr>\n",
       "    <tr>\n",
       "      <th>...</th>\n",
       "      <td>...</td>\n",
       "      <td>...</td>\n",
       "      <td>...</td>\n",
       "      <td>...</td>\n",
       "      <td>...</td>\n",
       "      <td>...</td>\n",
       "    </tr>\n",
       "    <tr>\n",
       "      <th>369</th>\n",
       "      <td>33.0</td>\n",
       "      <td>Male</td>\n",
       "      <td>Bachelor's</td>\n",
       "      <td>Junior Business Analyst</td>\n",
       "      <td>4.0</td>\n",
       "      <td>60000.0</td>\n",
       "    </tr>\n",
       "    <tr>\n",
       "      <th>370</th>\n",
       "      <td>35.0</td>\n",
       "      <td>Female</td>\n",
       "      <td>Bachelor's</td>\n",
       "      <td>Senior Marketing Analyst</td>\n",
       "      <td>8.0</td>\n",
       "      <td>85000.0</td>\n",
       "    </tr>\n",
       "    <tr>\n",
       "      <th>372</th>\n",
       "      <td>29.0</td>\n",
       "      <td>Female</td>\n",
       "      <td>Bachelor's</td>\n",
       "      <td>Junior Project Manager</td>\n",
       "      <td>2.0</td>\n",
       "      <td>40000.0</td>\n",
       "    </tr>\n",
       "    <tr>\n",
       "      <th>373</th>\n",
       "      <td>34.0</td>\n",
       "      <td>Male</td>\n",
       "      <td>Bachelor's</td>\n",
       "      <td>Senior Operations Coordinator</td>\n",
       "      <td>7.0</td>\n",
       "      <td>90000.0</td>\n",
       "    </tr>\n",
       "    <tr>\n",
       "      <th>374</th>\n",
       "      <td>44.0</td>\n",
       "      <td>Female</td>\n",
       "      <td>PhD</td>\n",
       "      <td>Senior Business Analyst</td>\n",
       "      <td>15.0</td>\n",
       "      <td>150000.0</td>\n",
       "    </tr>\n",
       "  </tbody>\n",
       "</table>\n",
       "<p>88 rows × 6 columns</p>\n",
       "</div>"
      ],
      "text/plain": [
       "      Age  Gender EducationLevel                      Job Title  \\\n",
       "140  28.0    Male     Bachelor's        Junior Business Analyst   \n",
       "195  28.0    Male     Bachelor's        Junior Business Analyst   \n",
       "209  30.0  Female     Bachelor's   Junior Marketing Coordinator   \n",
       "210  38.0    Male       Master's           Senior IT Consultant   \n",
       "211  45.0  Female            PhD        Senior Product Designer   \n",
       "..    ...     ...            ...                            ...   \n",
       "369  33.0    Male     Bachelor's        Junior Business Analyst   \n",
       "370  35.0  Female     Bachelor's       Senior Marketing Analyst   \n",
       "372  29.0  Female     Bachelor's         Junior Project Manager   \n",
       "373  34.0    Male     Bachelor's  Senior Operations Coordinator   \n",
       "374  44.0  Female            PhD        Senior Business Analyst   \n",
       "\n",
       "     YearsOfExperience    Salary  \n",
       "140                2.0   40000.0  \n",
       "195                2.0   40000.0  \n",
       "209                2.0   40000.0  \n",
       "210                9.0  110000.0  \n",
       "211               15.0  150000.0  \n",
       "..                 ...       ...  \n",
       "369                4.0   60000.0  \n",
       "370                8.0   85000.0  \n",
       "372                2.0   40000.0  \n",
       "373                7.0   90000.0  \n",
       "374               15.0  150000.0  \n",
       "\n",
       "[88 rows x 6 columns]"
      ]
     },
     "execution_count": 73,
     "metadata": {},
     "output_type": "execute_result"
    }
   ],
   "source": [
    "# Identifikasi Duplicated Values\n",
    "salary[salary.duplicated(keep=False)]"
   ]
  },
  {
   "cell_type": "code",
   "execution_count": 74,
   "metadata": {},
   "outputs": [
    {
     "name": "stdout",
     "output_type": "stream",
     "text": [
      "Bentuk Dataframe Salary adalah: (324, 6)\n"
     ]
    }
   ],
   "source": [
    "# Mengdrop Duplicated Values\n",
    "salary = salary.drop_duplicates(keep='first')\n",
    "\n",
    "salary = salary.reset_index(drop=True) # Reset Index\n",
    "\n",
    "shape = salary.shape\n",
    "print(f'Bentuk Dataframe Salary adalah: {shape}')"
   ]
  },
  {
   "cell_type": "code",
   "execution_count": 75,
   "metadata": {},
   "outputs": [
    {
     "name": "stdout",
     "output_type": "stream",
     "text": [
      "Jumlah Duplicated Values dalam Dataframe: 0\n"
     ]
    }
   ],
   "source": [
    "# Recheck Duplicated Data\n",
    "salary[salary.duplicated(keep=False)]\n",
    "sum_duplicated = salary.duplicated().sum()\n",
    "\n",
    "print(f'Jumlah Duplicated Values dalam Dataframe: {sum_duplicated}')"
   ]
  },
  {
   "cell_type": "code",
   "execution_count": 76,
   "metadata": {},
   "outputs": [
    {
     "data": {
      "text/html": [
       "<div>\n",
       "<style scoped>\n",
       "    .dataframe tbody tr th:only-of-type {\n",
       "        vertical-align: middle;\n",
       "    }\n",
       "\n",
       "    .dataframe tbody tr th {\n",
       "        vertical-align: top;\n",
       "    }\n",
       "\n",
       "    .dataframe thead th {\n",
       "        text-align: right;\n",
       "    }\n",
       "</style>\n",
       "<table border=\"1\" class=\"dataframe\">\n",
       "  <thead>\n",
       "    <tr style=\"text-align: right;\">\n",
       "      <th></th>\n",
       "      <th>Age</th>\n",
       "      <th>Gender</th>\n",
       "      <th>EducationLevel</th>\n",
       "      <th>Job Title</th>\n",
       "      <th>YearsOfExperience</th>\n",
       "      <th>Salary</th>\n",
       "    </tr>\n",
       "  </thead>\n",
       "  <tbody>\n",
       "    <tr>\n",
       "      <th>0</th>\n",
       "      <td>32.0</td>\n",
       "      <td>Male</td>\n",
       "      <td>Bachelor's</td>\n",
       "      <td>Software Engineer</td>\n",
       "      <td>5.0</td>\n",
       "      <td>90000.0</td>\n",
       "    </tr>\n",
       "    <tr>\n",
       "      <th>1</th>\n",
       "      <td>28.0</td>\n",
       "      <td>Female</td>\n",
       "      <td>Master's</td>\n",
       "      <td>Data Analyst</td>\n",
       "      <td>3.0</td>\n",
       "      <td>65000.0</td>\n",
       "    </tr>\n",
       "    <tr>\n",
       "      <th>2</th>\n",
       "      <td>45.0</td>\n",
       "      <td>Male</td>\n",
       "      <td>PhD</td>\n",
       "      <td>Senior Manager</td>\n",
       "      <td>15.0</td>\n",
       "      <td>150000.0</td>\n",
       "    </tr>\n",
       "    <tr>\n",
       "      <th>3</th>\n",
       "      <td>36.0</td>\n",
       "      <td>Female</td>\n",
       "      <td>Bachelor's</td>\n",
       "      <td>Sales Associate</td>\n",
       "      <td>7.0</td>\n",
       "      <td>60000.0</td>\n",
       "    </tr>\n",
       "    <tr>\n",
       "      <th>4</th>\n",
       "      <td>52.0</td>\n",
       "      <td>Male</td>\n",
       "      <td>Master's</td>\n",
       "      <td>Director</td>\n",
       "      <td>20.0</td>\n",
       "      <td>200000.0</td>\n",
       "    </tr>\n",
       "    <tr>\n",
       "      <th>...</th>\n",
       "      <td>...</td>\n",
       "      <td>...</td>\n",
       "      <td>...</td>\n",
       "      <td>...</td>\n",
       "      <td>...</td>\n",
       "      <td>...</td>\n",
       "    </tr>\n",
       "    <tr>\n",
       "      <th>319</th>\n",
       "      <td>28.0</td>\n",
       "      <td>Female</td>\n",
       "      <td>Bachelor's</td>\n",
       "      <td>Junior Operations Manager</td>\n",
       "      <td>1.0</td>\n",
       "      <td>35000.0</td>\n",
       "    </tr>\n",
       "    <tr>\n",
       "      <th>320</th>\n",
       "      <td>36.0</td>\n",
       "      <td>Male</td>\n",
       "      <td>Bachelor's</td>\n",
       "      <td>Senior Business Development Manager</td>\n",
       "      <td>8.0</td>\n",
       "      <td>110000.0</td>\n",
       "    </tr>\n",
       "    <tr>\n",
       "      <th>321</th>\n",
       "      <td>44.0</td>\n",
       "      <td>Female</td>\n",
       "      <td>PhD</td>\n",
       "      <td>Senior Data Scientist</td>\n",
       "      <td>16.0</td>\n",
       "      <td>160000.0</td>\n",
       "    </tr>\n",
       "    <tr>\n",
       "      <th>322</th>\n",
       "      <td>31.0</td>\n",
       "      <td>Male</td>\n",
       "      <td>Bachelor's</td>\n",
       "      <td>Junior Marketing Coordinator</td>\n",
       "      <td>3.0</td>\n",
       "      <td>55000.0</td>\n",
       "    </tr>\n",
       "    <tr>\n",
       "      <th>323</th>\n",
       "      <td>43.0</td>\n",
       "      <td>Male</td>\n",
       "      <td>Master's</td>\n",
       "      <td>Director of Operations</td>\n",
       "      <td>19.0</td>\n",
       "      <td>170000.0</td>\n",
       "    </tr>\n",
       "  </tbody>\n",
       "</table>\n",
       "<p>324 rows × 6 columns</p>\n",
       "</div>"
      ],
      "text/plain": [
       "      Age  Gender EducationLevel                            Job Title  \\\n",
       "0    32.0    Male     Bachelor's                    Software Engineer   \n",
       "1    28.0  Female       Master's                         Data Analyst   \n",
       "2    45.0    Male            PhD                       Senior Manager   \n",
       "3    36.0  Female     Bachelor's                      Sales Associate   \n",
       "4    52.0    Male       Master's                             Director   \n",
       "..    ...     ...            ...                                  ...   \n",
       "319  28.0  Female     Bachelor's            Junior Operations Manager   \n",
       "320  36.0    Male     Bachelor's  Senior Business Development Manager   \n",
       "321  44.0  Female            PhD                Senior Data Scientist   \n",
       "322  31.0    Male     Bachelor's         Junior Marketing Coordinator   \n",
       "323  43.0    Male       Master's               Director of Operations   \n",
       "\n",
       "     YearsOfExperience    Salary  \n",
       "0                  5.0   90000.0  \n",
       "1                  3.0   65000.0  \n",
       "2                 15.0  150000.0  \n",
       "3                  7.0   60000.0  \n",
       "4                 20.0  200000.0  \n",
       "..                 ...       ...  \n",
       "319                1.0   35000.0  \n",
       "320                8.0  110000.0  \n",
       "321               16.0  160000.0  \n",
       "322                3.0   55000.0  \n",
       "323               19.0  170000.0  \n",
       "\n",
       "[324 rows x 6 columns]"
      ]
     },
     "execution_count": 76,
     "metadata": {},
     "output_type": "execute_result"
    }
   ],
   "source": [
    "salary"
   ]
  },
  {
   "cell_type": "markdown",
   "metadata": {},
   "source": [
    "## **3. Exploratory Data Analysis**"
   ]
  },
  {
   "cell_type": "code",
   "execution_count": 77,
   "metadata": {},
   "outputs": [
    {
     "data": {
      "text/html": [
       "<div>\n",
       "<style scoped>\n",
       "    .dataframe tbody tr th:only-of-type {\n",
       "        vertical-align: middle;\n",
       "    }\n",
       "\n",
       "    .dataframe tbody tr th {\n",
       "        vertical-align: top;\n",
       "    }\n",
       "\n",
       "    .dataframe thead th {\n",
       "        text-align: right;\n",
       "    }\n",
       "</style>\n",
       "<table border=\"1\" class=\"dataframe\">\n",
       "  <thead>\n",
       "    <tr style=\"text-align: right;\">\n",
       "      <th></th>\n",
       "      <th>Age</th>\n",
       "      <th>YearsOfExperience</th>\n",
       "      <th>Salary</th>\n",
       "    </tr>\n",
       "  </thead>\n",
       "  <tbody>\n",
       "    <tr>\n",
       "      <th>count</th>\n",
       "      <td>324.000000</td>\n",
       "      <td>324.000000</td>\n",
       "      <td>324.000000</td>\n",
       "    </tr>\n",
       "    <tr>\n",
       "      <th>mean</th>\n",
       "      <td>37.382716</td>\n",
       "      <td>10.058642</td>\n",
       "      <td>99985.648148</td>\n",
       "    </tr>\n",
       "    <tr>\n",
       "      <th>std</th>\n",
       "      <td>7.185844</td>\n",
       "      <td>6.650470</td>\n",
       "      <td>48652.271440</td>\n",
       "    </tr>\n",
       "    <tr>\n",
       "      <th>min</th>\n",
       "      <td>23.000000</td>\n",
       "      <td>0.000000</td>\n",
       "      <td>350.000000</td>\n",
       "    </tr>\n",
       "    <tr>\n",
       "      <th>25%</th>\n",
       "      <td>31.000000</td>\n",
       "      <td>4.000000</td>\n",
       "      <td>55000.000000</td>\n",
       "    </tr>\n",
       "    <tr>\n",
       "      <th>50%</th>\n",
       "      <td>36.500000</td>\n",
       "      <td>9.000000</td>\n",
       "      <td>95000.000000</td>\n",
       "    </tr>\n",
       "    <tr>\n",
       "      <th>75%</th>\n",
       "      <td>44.000000</td>\n",
       "      <td>16.000000</td>\n",
       "      <td>140000.000000</td>\n",
       "    </tr>\n",
       "    <tr>\n",
       "      <th>max</th>\n",
       "      <td>53.000000</td>\n",
       "      <td>25.000000</td>\n",
       "      <td>250000.000000</td>\n",
       "    </tr>\n",
       "  </tbody>\n",
       "</table>\n",
       "</div>"
      ],
      "text/plain": [
       "              Age  YearsOfExperience         Salary\n",
       "count  324.000000         324.000000     324.000000\n",
       "mean    37.382716          10.058642   99985.648148\n",
       "std      7.185844           6.650470   48652.271440\n",
       "min     23.000000           0.000000     350.000000\n",
       "25%     31.000000           4.000000   55000.000000\n",
       "50%     36.500000           9.000000   95000.000000\n",
       "75%     44.000000          16.000000  140000.000000\n",
       "max     53.000000          25.000000  250000.000000"
      ]
     },
     "execution_count": 77,
     "metadata": {},
     "output_type": "execute_result"
    }
   ],
   "source": [
    "salary.describe()"
   ]
  },
  {
   "cell_type": "code",
   "execution_count": 78,
   "metadata": {},
   "outputs": [
    {
     "name": "stdout",
     "output_type": "stream",
     "text": [
      "<class 'pandas.core.frame.DataFrame'>\n",
      "RangeIndex: 324 entries, 0 to 323\n",
      "Data columns (total 6 columns):\n",
      " #   Column             Non-Null Count  Dtype  \n",
      "---  ------             --------------  -----  \n",
      " 0   Age                324 non-null    float64\n",
      " 1   Gender             324 non-null    object \n",
      " 2   EducationLevel     324 non-null    object \n",
      " 3   Job Title          324 non-null    object \n",
      " 4   YearsOfExperience  324 non-null    float64\n",
      " 5   Salary             324 non-null    float64\n",
      "dtypes: float64(3), object(3)\n",
      "memory usage: 15.3+ KB\n"
     ]
    }
   ],
   "source": [
    "salary.info()"
   ]
  },
  {
   "cell_type": "code",
   "execution_count": 79,
   "metadata": {},
   "outputs": [
    {
     "data": {
      "text/plain": [
       "Male      170\n",
       "Female    154\n",
       "Name: Gender, dtype: int64"
      ]
     },
     "execution_count": 79,
     "metadata": {},
     "output_type": "execute_result"
    }
   ],
   "source": [
    "# Identifikasi Values pada kolom Gender\n",
    "salary['Gender'].value_counts()"
   ]
  },
  {
   "cell_type": "code",
   "execution_count": 80,
   "metadata": {},
   "outputs": [
    {
     "data": {
      "text/plain": [
       "Bachelor's    191\n",
       "Master's       91\n",
       "PhD            42\n",
       "Name: EducationLevel, dtype: int64"
      ]
     },
     "execution_count": 80,
     "metadata": {},
     "output_type": "execute_result"
    }
   ],
   "source": [
    "# Identifikasi Values pada kolom Education Level\n",
    "salary['EducationLevel'].value_counts()"
   ]
  },
  {
   "cell_type": "markdown",
   "metadata": {},
   "source": [
    "### Corelation Matrix"
   ]
  },
  {
   "cell_type": "code",
   "execution_count": 81,
   "metadata": {},
   "outputs": [
    {
     "data": {
      "image/png": "[encoded data removed]",
      "text/plain": [
       "<Figure size 1000x800 with 2 Axes>"
      ]
     },
     "metadata": {},
     "output_type": "display_data"
    }
   ],
   "source": [
    "plt.figure(figsize=(10, 8))\n",
    "sns.heatmap(salary.corr(), annot=True, cmap='coolwarm', fmt=\".2f\", linewidths=0.5)\n",
    "plt.title('Correlation Heatmap')\n",
    "plt.show()"
   ]
  },
  {
   "cell_type": "code",
   "execution_count": 82,
   "metadata": {},
   "outputs": [
    {
     "name": "stdout",
     "output_type": "stream",
     "text": [
      "<class 'pandas.core.frame.DataFrame'>\n",
      "RangeIndex: 324 entries, 0 to 323\n",
      "Data columns (total 6 columns):\n",
      " #   Column             Non-Null Count  Dtype  \n",
      "---  ------             --------------  -----  \n",
      " 0   Age                324 non-null    float64\n",
      " 1   Gender             324 non-null    object \n",
      " 2   EducationLevel     324 non-null    object \n",
      " 3   Job Title          324 non-null    object \n",
      " 4   YearsOfExperience  324 non-null    float64\n",
      " 5   Salary             324 non-null    float64\n",
      "dtypes: float64(3), object(3)\n",
      "memory usage: 15.3+ KB\n"
     ]
    }
   ],
   "source": [
    "salary.info()"
   ]
  },
  {
   "cell_type": "markdown",
   "metadata": {},
   "source": [
    "### Distribution Numerical Columns"
   ]
  },
  {
   "cell_type": "code",
   "execution_count": 83,
   "metadata": {},
   "outputs": [
    {
     "data": {
      "image/png": "[encoded data removed]",
      "text/plain": [
       "<Figure size 1200x1000 with 3 Axes>"
      ]
     },
     "metadata": {},
     "output_type": "display_data"
    }
   ],
   "source": [
    "columns = ['Age','YearsOfExperience', 'Salary']\n",
    "numerical_col = salary[columns]\n",
    "\n",
    "plt.figure(figsize=(12,10))\n",
    "plt.suptitle('Distribution of Numerical Columns', fontweight='bold', fontsize=16)\n",
    "for i,col in enumerate(numerical_col.columns,1):\n",
    "    plt.subplot(4,3,i)\n",
    "    plt.title(f\"Distribution of {col}\")\n",
    "    sns.distplot(numerical_col[col], kde=True)\n",
    "    plt.grid(True)\n",
    "    plt.tight_layout()\n",
    "    plt.plot()"
   ]
  },
  {
   "cell_type": "markdown",
   "metadata": {},
   "source": [
    "### Categorical Columns Descriptive"
   ]
  },
  {
   "cell_type": "code",
   "execution_count": 84,
   "metadata": {},
   "outputs": [
    {
     "name": "stdout",
     "output_type": "stream",
     "text": [
      "<class 'pandas.core.frame.DataFrame'>\n",
      "RangeIndex: 324 entries, 0 to 323\n",
      "Data columns (total 6 columns):\n",
      " #   Column             Non-Null Count  Dtype  \n",
      "---  ------             --------------  -----  \n",
      " 0   Age                324 non-null    float64\n",
      " 1   Gender             324 non-null    object \n",
      " 2   EducationLevel     324 non-null    object \n",
      " 3   Job Title          324 non-null    object \n",
      " 4   YearsOfExperience  324 non-null    float64\n",
      " 5   Salary             324 non-null    float64\n",
      "dtypes: float64(3), object(3)\n",
      "memory usage: 15.3+ KB\n"
     ]
    }
   ],
   "source": [
    "salary.info()"
   ]
  },
  {
   "cell_type": "code",
   "execution_count": 85,
   "metadata": {},
   "outputs": [
    {
     "data": {
      "text/html": [
       "<div>\n",
       "<style scoped>\n",
       "    .dataframe tbody tr th:only-of-type {\n",
       "        vertical-align: middle;\n",
       "    }\n",
       "\n",
       "    .dataframe tbody tr th {\n",
       "        vertical-align: top;\n",
       "    }\n",
       "\n",
       "    .dataframe thead th {\n",
       "        text-align: right;\n",
       "    }\n",
       "</style>\n",
       "<table border=\"1\" class=\"dataframe\">\n",
       "  <thead>\n",
       "    <tr style=\"text-align: right;\">\n",
       "      <th></th>\n",
       "      <th>Gender</th>\n",
       "      <th>EducationLevel</th>\n",
       "      <th>Job Title</th>\n",
       "    </tr>\n",
       "  </thead>\n",
       "  <tbody>\n",
       "    <tr>\n",
       "      <th>count</th>\n",
       "      <td>324</td>\n",
       "      <td>324</td>\n",
       "      <td>324</td>\n",
       "    </tr>\n",
       "    <tr>\n",
       "      <th>unique</th>\n",
       "      <td>2</td>\n",
       "      <td>3</td>\n",
       "      <td>174</td>\n",
       "    </tr>\n",
       "    <tr>\n",
       "      <th>top</th>\n",
       "      <td>Male</td>\n",
       "      <td>Bachelor's</td>\n",
       "      <td>Director of Operations</td>\n",
       "    </tr>\n",
       "    <tr>\n",
       "      <th>freq</th>\n",
       "      <td>170</td>\n",
       "      <td>191</td>\n",
       "      <td>9</td>\n",
       "    </tr>\n",
       "  </tbody>\n",
       "</table>\n",
       "</div>"
      ],
      "text/plain": [
       "       Gender EducationLevel               Job Title\n",
       "count     324            324                     324\n",
       "unique      2              3                     174\n",
       "top      Male     Bachelor's  Director of Operations\n",
       "freq      170            191                       9"
      ]
     },
     "execution_count": 85,
     "metadata": {},
     "output_type": "execute_result"
    }
   ],
   "source": [
    "salary.describe(include='object')"
   ]
  },
  {
   "cell_type": "code",
   "execution_count": 86,
   "metadata": {},
   "outputs": [
    {
     "data": {
      "text/plain": [
       "Gender\n",
       "Female     96136.363636\n",
       "Male      103472.647059\n",
       "Name: Salary, dtype: float64"
      ]
     },
     "execution_count": 86,
     "metadata": {},
     "output_type": "execute_result"
    }
   ],
   "source": [
    "#Gaji antar jenis kelamin\n",
    "salary.groupby(\"Gender\")[\"Salary\"].mean()"
   ]
  },
  {
   "cell_type": "code",
   "execution_count": 87,
   "metadata": {},
   "outputs": [
    {
     "data": {
      "text/plain": [
       "EducationLevel\n",
       "Bachelor's     73902.356021\n",
       "Master's      127912.087912\n",
       "PhD           158095.238095\n",
       "Name: Salary, dtype: float64"
      ]
     },
     "execution_count": 87,
     "metadata": {},
     "output_type": "execute_result"
    }
   ],
   "source": [
    "#Gaji antar level pendidikan\n",
    "salary.groupby(\"EducationLevel\")[\"Salary\"].mean()"
   ]
  },
  {
   "cell_type": "markdown",
   "metadata": {},
   "source": [
    "Visualisasi pairplot antar numerical columns"
   ]
  },
  {
   "cell_type": "code",
   "execution_count": 88,
   "metadata": {},
   "outputs": [
    {
     "data": {
      "text/plain": [
       "<seaborn.axisgrid.PairGrid at 0x2ba4a9e12b0>"
      ]
     },
     "execution_count": 88,
     "metadata": {},
     "output_type": "execute_result"
    },
    {
     "data": {
      "image/png": "[encoded data removed]",
      "text/plain": [
       "<Figure size 700.25x600 with 12 Axes>"
      ]
     },
     "metadata": {},
     "output_type": "display_data"
    }
   ],
   "source": [
    "sns.pairplot(data = salary, hue = \"Gender\", height=2)"
   ]
  },
  {
   "cell_type": "markdown",
   "metadata": {},
   "source": [
    "## **4. Statistical Test**"
   ]
  },
  {
   "cell_type": "markdown",
   "metadata": {},
   "source": [
    "- $H_0$ :Rata-rata gaji laki-laki sama dengan dari rata-rata gaji perempuan\n",
    "- $H_1$ :Rata-rata gaji laki-laki lebih besar dari rata-rata gaji perempuan"
   ]
  },
  {
   "cell_type": "markdown",
   "metadata": {},
   "source": [
    "1. Semakin bertambahnya pengalaman kerja seseorang, besaran gaji yang diterimanya juga meningkat.\n",
    "\n",
    "2. Semakin tua seseorang, semakin banyak pengalaman kerja yang dapat diakumulasikan.\n",
    "\n",
    "**Gaji tidak dipengaruhi oleh jenis kelamin.**"
   ]
  },
  {
   "cell_type": "code",
   "execution_count": 89,
   "metadata": {},
   "outputs": [
    {
     "data": {
      "text/plain": [
       "Gender\n",
       "Female     96136.363636\n",
       "Male      103472.647059\n",
       "Name: Salary, dtype: float64"
      ]
     },
     "execution_count": 89,
     "metadata": {},
     "output_type": "execute_result"
    }
   ],
   "source": [
    "significance_level = 0.10\n",
    "salary.groupby(\"Gender\")[\"Salary\"].mean()"
   ]
  },
  {
   "cell_type": "code",
   "execution_count": 90,
   "metadata": {},
   "outputs": [
    {
     "data": {
      "text/plain": [
       "(2571353207.6989617, 2097896989.374262)"
      ]
     },
     "execution_count": 90,
     "metadata": {},
     "output_type": "execute_result"
    }
   ],
   "source": [
    "male = salary[salary[\"Gender\"]==\"Male\"][\"Salary\"].values\n",
    "female = salary[salary[\"Gender\"]==\"Female\"][\"Salary\"].values\n",
    "\n",
    "# Variance\n",
    "np.var(male), np.var(female)"
   ]
  },
  {
   "cell_type": "code",
   "execution_count": 91,
   "metadata": {},
   "outputs": [
    {
     "data": {
      "text/plain": [
       "0.08675461782037655"
      ]
     },
     "execution_count": 91,
     "metadata": {},
     "output_type": "execute_result"
    }
   ],
   "source": [
    "from scipy import stats\n",
    "result = stats.ttest_ind(a = male, b = female, equal_var=False, alternative = \"greater\")\n",
    "result.pvalue"
   ]
  },
  {
   "cell_type": "code",
   "execution_count": 92,
   "metadata": {},
   "outputs": [
    {
     "name": "stdout",
     "output_type": "stream",
     "text": [
      "Reject Null Hypothesis\n"
     ]
    }
   ],
   "source": [
    "if result.pvalue < significance_level:\n",
    "    print(\"Reject Null Hypothesis\")\n",
    "else:\n",
    "    print(\"Fail to Reject Null Hypothesis\")"
   ]
  },
  {
   "cell_type": "code",
   "execution_count": 93,
   "metadata": {},
   "outputs": [
    {
     "data": {
      "text/plain": [
       "324"
      ]
     },
     "execution_count": 93,
     "metadata": {},
     "output_type": "execute_result"
    }
   ],
   "source": [
    "# Degree of Freedom\n",
    "data = len(male)+len(female)\n",
    "data"
   ]
  },
  {
   "cell_type": "markdown",
   "metadata": {},
   "source": [
    "Plot Sample Distribution"
   ]
  },
  {
   "cell_type": "code",
   "execution_count": 94,
   "metadata": {},
   "outputs": [
    {
     "data": {
      "image/png": "[encoded data removed]",
      "text/plain": [
       "<Figure size 640x480 with 1 Axes>"
      ]
     },
     "metadata": {},
     "output_type": "display_data"
    }
   ],
   "source": [
    "# Plot Sample Distribution\n",
    "x = np.arange(-4, 14, 0.001)\n",
    "plt.plot(x, stats.t.pdf(x, df=data), color='black')\n",
    "x_alpha = np.arange(stats.t.ppf(1-significance_level, df = data), 4, 0.01)\n",
    "y_alpha = stats.t.pdf(x_alpha, df = data)\n",
    "plt.fill_between(x = x_alpha, y1 = y_alpha, facecolor = 'red', alpha = 0.35, label = 'alpha')\n",
    "\n",
    "# plot value\n",
    "x_pvalue = np.arange(result.statistic, 4, 0.01)\n",
    "y_pvalue = stats.t.pdf(x_pvalue, df = data)\n",
    "plt.fill_between(x = x_pvalue, y1 = y_pvalue, facecolor = 'purple', alpha = 0.35, label = 'pvalue')\n",
    "plt.axvline(np.round(result.statistic, 4), color =\"green\", linestyle = \"--\", label =\"t-stat\")\n",
    "t_crit = np.round(stats.t.ppf(1-significance_level, df = data), 4)\n",
    "plt.axvline(t_crit, color =\"red\", linestyle = \"--\", label =\"t-crit\")\n",
    "plt.legend()\n",
    "plt.xlabel(\"t\")\n",
    "plt.ylabel(\"density\")\n",
    "plt.title(f't Distribution Plot with Alpha = {significance_level}');\n",
    "plt.show()"
   ]
  },
  {
   "cell_type": "markdown",
   "metadata": {},
   "source": [
    "#### Confidence Level"
   ]
  },
  {
   "cell_type": "code",
   "execution_count": 95,
   "metadata": {},
   "outputs": [
    {
     "name": "stdout",
     "output_type": "stream",
     "text": [
      "Nilai Confidence Interval sebesar: [-1535.8717753119818, 16208.438620231766]\n"
     ]
    }
   ],
   "source": [
    "from statsmodels.stats.weightstats import DescrStatsW, CompareMeans\n",
    "cm = CompareMeans(d1=DescrStatsW(data=male),\n",
    "                  d2=DescrStatsW(data=female))\n",
    "\n",
    "lower, upper = cm.tconfint_diff(alpha=significance_level, alternative='two-sided', usevar='unequal')\n",
    "print(f'Nilai Confidence Interval sebesar: [{lower}, {upper}]')"
   ]
  },
  {
   "cell_type": "markdown",
   "metadata": {},
   "source": [
    "## **5. Regression Model**"
   ]
  },
  {
   "cell_type": "markdown",
   "metadata": {},
   "source": [
    "sebelum melakukan regression modeling, kita perlu menghapus kolom \"`Job Title`\" karena tidak memiliki relevansi dengan objective goals yang telah di buat sebelumnya"
   ]
  },
  {
   "cell_type": "code",
   "execution_count": 96,
   "metadata": {},
   "outputs": [
    {
     "name": "stdout",
     "output_type": "stream",
     "text": [
      "<class 'pandas.core.frame.DataFrame'>\n",
      "RangeIndex: 324 entries, 0 to 323\n",
      "Data columns (total 6 columns):\n",
      " #   Column             Non-Null Count  Dtype  \n",
      "---  ------             --------------  -----  \n",
      " 0   Age                324 non-null    float64\n",
      " 1   Gender             324 non-null    object \n",
      " 2   EducationLevel     324 non-null    object \n",
      " 3   Job Title          324 non-null    object \n",
      " 4   YearsOfExperience  324 non-null    float64\n",
      " 5   Salary             324 non-null    float64\n",
      "dtypes: float64(3), object(3)\n",
      "memory usage: 15.3+ KB\n"
     ]
    }
   ],
   "source": [
    "salary.info()"
   ]
  },
  {
   "cell_type": "code",
   "execution_count": 97,
   "metadata": {},
   "outputs": [
    {
     "data": {
      "text/html": [
       "<div>\n",
       "<style scoped>\n",
       "    .dataframe tbody tr th:only-of-type {\n",
       "        vertical-align: middle;\n",
       "    }\n",
       "\n",
       "    .dataframe tbody tr th {\n",
       "        vertical-align: top;\n",
       "    }\n",
       "\n",
       "    .dataframe thead th {\n",
       "        text-align: right;\n",
       "    }\n",
       "</style>\n",
       "<table border=\"1\" class=\"dataframe\">\n",
       "  <thead>\n",
       "    <tr style=\"text-align: right;\">\n",
       "      <th></th>\n",
       "      <th>Age</th>\n",
       "      <th>Gender</th>\n",
       "      <th>EducationLevel</th>\n",
       "      <th>YearsOfExperience</th>\n",
       "      <th>Salary</th>\n",
       "    </tr>\n",
       "  </thead>\n",
       "  <tbody>\n",
       "    <tr>\n",
       "      <th>0</th>\n",
       "      <td>32.0</td>\n",
       "      <td>Male</td>\n",
       "      <td>Bachelor's</td>\n",
       "      <td>5.0</td>\n",
       "      <td>90000.0</td>\n",
       "    </tr>\n",
       "    <tr>\n",
       "      <th>1</th>\n",
       "      <td>28.0</td>\n",
       "      <td>Female</td>\n",
       "      <td>Master's</td>\n",
       "      <td>3.0</td>\n",
       "      <td>65000.0</td>\n",
       "    </tr>\n",
       "    <tr>\n",
       "      <th>2</th>\n",
       "      <td>45.0</td>\n",
       "      <td>Male</td>\n",
       "      <td>PhD</td>\n",
       "      <td>15.0</td>\n",
       "      <td>150000.0</td>\n",
       "    </tr>\n",
       "    <tr>\n",
       "      <th>3</th>\n",
       "      <td>36.0</td>\n",
       "      <td>Female</td>\n",
       "      <td>Bachelor's</td>\n",
       "      <td>7.0</td>\n",
       "      <td>60000.0</td>\n",
       "    </tr>\n",
       "    <tr>\n",
       "      <th>4</th>\n",
       "      <td>52.0</td>\n",
       "      <td>Male</td>\n",
       "      <td>Master's</td>\n",
       "      <td>20.0</td>\n",
       "      <td>200000.0</td>\n",
       "    </tr>\n",
       "    <tr>\n",
       "      <th>...</th>\n",
       "      <td>...</td>\n",
       "      <td>...</td>\n",
       "      <td>...</td>\n",
       "      <td>...</td>\n",
       "      <td>...</td>\n",
       "    </tr>\n",
       "    <tr>\n",
       "      <th>319</th>\n",
       "      <td>28.0</td>\n",
       "      <td>Female</td>\n",
       "      <td>Bachelor's</td>\n",
       "      <td>1.0</td>\n",
       "      <td>35000.0</td>\n",
       "    </tr>\n",
       "    <tr>\n",
       "      <th>320</th>\n",
       "      <td>36.0</td>\n",
       "      <td>Male</td>\n",
       "      <td>Bachelor's</td>\n",
       "      <td>8.0</td>\n",
       "      <td>110000.0</td>\n",
       "    </tr>\n",
       "    <tr>\n",
       "      <th>321</th>\n",
       "      <td>44.0</td>\n",
       "      <td>Female</td>\n",
       "      <td>PhD</td>\n",
       "      <td>16.0</td>\n",
       "      <td>160000.0</td>\n",
       "    </tr>\n",
       "    <tr>\n",
       "      <th>322</th>\n",
       "      <td>31.0</td>\n",
       "      <td>Male</td>\n",
       "      <td>Bachelor's</td>\n",
       "      <td>3.0</td>\n",
       "      <td>55000.0</td>\n",
       "    </tr>\n",
       "    <tr>\n",
       "      <th>323</th>\n",
       "      <td>43.0</td>\n",
       "      <td>Male</td>\n",
       "      <td>Master's</td>\n",
       "      <td>19.0</td>\n",
       "      <td>170000.0</td>\n",
       "    </tr>\n",
       "  </tbody>\n",
       "</table>\n",
       "<p>324 rows × 5 columns</p>\n",
       "</div>"
      ],
      "text/plain": [
       "      Age  Gender EducationLevel  YearsOfExperience    Salary\n",
       "0    32.0    Male     Bachelor's                5.0   90000.0\n",
       "1    28.0  Female       Master's                3.0   65000.0\n",
       "2    45.0    Male            PhD               15.0  150000.0\n",
       "3    36.0  Female     Bachelor's                7.0   60000.0\n",
       "4    52.0    Male       Master's               20.0  200000.0\n",
       "..    ...     ...            ...                ...       ...\n",
       "319  28.0  Female     Bachelor's                1.0   35000.0\n",
       "320  36.0    Male     Bachelor's                8.0  110000.0\n",
       "321  44.0  Female            PhD               16.0  160000.0\n",
       "322  31.0    Male     Bachelor's                3.0   55000.0\n",
       "323  43.0    Male       Master's               19.0  170000.0\n",
       "\n",
       "[324 rows x 5 columns]"
      ]
     },
     "execution_count": 97,
     "metadata": {},
     "output_type": "execute_result"
    }
   ],
   "source": [
    "salary.drop(\"Job Title\", axis=1, inplace=True)\n",
    "salary"
   ]
  },
  {
   "cell_type": "markdown",
   "metadata": {},
   "source": [
    "#### Convert Categorical Columns to Numerical Columns"
   ]
  },
  {
   "cell_type": "code",
   "execution_count": 98,
   "metadata": {},
   "outputs": [
    {
     "data": {
      "text/plain": [
       "Bachelor's    191\n",
       "Master's       91\n",
       "PhD            42\n",
       "Name: EducationLevel, dtype: int64"
      ]
     },
     "execution_count": 98,
     "metadata": {},
     "output_type": "execute_result"
    }
   ],
   "source": [
    "salary[\"EducationLevel\"].value_counts()"
   ]
  },
  {
   "cell_type": "code",
   "execution_count": 99,
   "metadata": {},
   "outputs": [
    {
     "data": {
      "text/plain": [
       "Male      170\n",
       "Female    154\n",
       "Name: Gender, dtype: int64"
      ]
     },
     "execution_count": 99,
     "metadata": {},
     "output_type": "execute_result"
    }
   ],
   "source": [
    "salary[\"Gender\"].value_counts()"
   ]
  },
  {
   "cell_type": "markdown",
   "metadata": {},
   "source": [
    "setelah melakukan cek data pada `Education Level` dan `Gender`, langkah selanjutnya adalah sebagai berikut \n",
    "- mengubah `male` menjadi angka 0 dan `female` menjadi angka 1\n",
    "- mengubah `Bachelor's` = 0, `Master's` = 1, `PhD` = 2"
   ]
  },
  {
   "cell_type": "code",
   "execution_count": 100,
   "metadata": {},
   "outputs": [
    {
     "data": {
      "text/html": [
       "<div>\n",
       "<style scoped>\n",
       "    .dataframe tbody tr th:only-of-type {\n",
       "        vertical-align: middle;\n",
       "    }\n",
       "\n",
       "    .dataframe tbody tr th {\n",
       "        vertical-align: top;\n",
       "    }\n",
       "\n",
       "    .dataframe thead th {\n",
       "        text-align: right;\n",
       "    }\n",
       "</style>\n",
       "<table border=\"1\" class=\"dataframe\">\n",
       "  <thead>\n",
       "    <tr style=\"text-align: right;\">\n",
       "      <th></th>\n",
       "      <th>Age</th>\n",
       "      <th>Gender</th>\n",
       "      <th>EducationLevel</th>\n",
       "      <th>YearsOfExperience</th>\n",
       "      <th>Salary</th>\n",
       "    </tr>\n",
       "  </thead>\n",
       "  <tbody>\n",
       "    <tr>\n",
       "      <th>0</th>\n",
       "      <td>32.0</td>\n",
       "      <td>0</td>\n",
       "      <td>0</td>\n",
       "      <td>5.0</td>\n",
       "      <td>90000.0</td>\n",
       "    </tr>\n",
       "    <tr>\n",
       "      <th>1</th>\n",
       "      <td>28.0</td>\n",
       "      <td>1</td>\n",
       "      <td>1</td>\n",
       "      <td>3.0</td>\n",
       "      <td>65000.0</td>\n",
       "    </tr>\n",
       "    <tr>\n",
       "      <th>2</th>\n",
       "      <td>45.0</td>\n",
       "      <td>0</td>\n",
       "      <td>2</td>\n",
       "      <td>15.0</td>\n",
       "      <td>150000.0</td>\n",
       "    </tr>\n",
       "    <tr>\n",
       "      <th>3</th>\n",
       "      <td>36.0</td>\n",
       "      <td>1</td>\n",
       "      <td>0</td>\n",
       "      <td>7.0</td>\n",
       "      <td>60000.0</td>\n",
       "    </tr>\n",
       "    <tr>\n",
       "      <th>4</th>\n",
       "      <td>52.0</td>\n",
       "      <td>0</td>\n",
       "      <td>1</td>\n",
       "      <td>20.0</td>\n",
       "      <td>200000.0</td>\n",
       "    </tr>\n",
       "  </tbody>\n",
       "</table>\n",
       "</div>"
      ],
      "text/plain": [
       "    Age  Gender  EducationLevel  YearsOfExperience    Salary\n",
       "0  32.0       0               0                5.0   90000.0\n",
       "1  28.0       1               1                3.0   65000.0\n",
       "2  45.0       0               2               15.0  150000.0\n",
       "3  36.0       1               0                7.0   60000.0\n",
       "4  52.0       0               1               20.0  200000.0"
      ]
     },
     "execution_count": 100,
     "metadata": {},
     "output_type": "execute_result"
    }
   ],
   "source": [
    "salary[\"EducationLevel\"] = salary[\"EducationLevel\"].map({\"Bachelor's\":0,\"Master's\":1,\"PhD\":2})\n",
    "salary[\"Gender\"] = salary[\"Gender\"].map({\"Male\":0,\"Female\":1})\n",
    "salary.head()"
   ]
  },
  {
   "cell_type": "code",
   "execution_count": 101,
   "metadata": {},
   "outputs": [
    {
     "name": "stdout",
     "output_type": "stream",
     "text": [
      "<class 'pandas.core.frame.DataFrame'>\n",
      "RangeIndex: 324 entries, 0 to 323\n",
      "Data columns (total 5 columns):\n",
      " #   Column             Non-Null Count  Dtype  \n",
      "---  ------             --------------  -----  \n",
      " 0   Age                324 non-null    float64\n",
      " 1   Gender             324 non-null    int64  \n",
      " 2   EducationLevel     324 non-null    int64  \n",
      " 3   YearsOfExperience  324 non-null    float64\n",
      " 4   Salary             324 non-null    float64\n",
      "dtypes: float64(3), int64(2)\n",
      "memory usage: 12.8 KB\n"
     ]
    }
   ],
   "source": [
    "salary.info()"
   ]
  },
  {
   "cell_type": "code",
   "execution_count": 102,
   "metadata": {},
   "outputs": [
    {
     "data": {
      "image/png": "[encoded data removed]",
      "text/plain": [
       "<Figure size 640x480 with 1 Axes>"
      ]
     },
     "metadata": {},
     "output_type": "display_data"
    }
   ],
   "source": [
    "# Single Predictor Modelling\n",
    "x = salary[\"YearsOfExperience\"]\n",
    "y = salary[\"Salary\"]\n",
    "plt.scatter(x, y, color = \"blue\", marker=\".\")\n",
    "plt.xlabel(\"YearsOfExperience\")\n",
    "plt.ylabel(\"Salary\")\n",
    "plt.title(\"Single Predictor Modelling Plot\")\n",
    "plt.show()"
   ]
  },
  {
   "cell_type": "code",
   "execution_count": 103,
   "metadata": {},
   "outputs": [
    {
     "name": "stdout",
     "output_type": "stream",
     "text": [
      "<class 'pandas.core.frame.DataFrame'>\n",
      "RangeIndex: 324 entries, 0 to 323\n",
      "Data columns (total 5 columns):\n",
      " #   Column             Non-Null Count  Dtype  \n",
      "---  ------             --------------  -----  \n",
      " 0   Age                324 non-null    float64\n",
      " 1   Gender             324 non-null    int64  \n",
      " 2   EducationLevel     324 non-null    int64  \n",
      " 3   YearsOfExperience  324 non-null    float64\n",
      " 4   Salary             324 non-null    float64\n",
      "dtypes: float64(3), int64(2)\n",
      "memory usage: 12.8 KB\n"
     ]
    }
   ],
   "source": [
    "salary.info()"
   ]
  },
  {
   "cell_type": "code",
   "execution_count": 104,
   "metadata": {},
   "outputs": [
    {
     "data": {
      "text/html": [
       "<div>\n",
       "<style scoped>\n",
       "    .dataframe tbody tr th:only-of-type {\n",
       "        vertical-align: middle;\n",
       "    }\n",
       "\n",
       "    .dataframe tbody tr th {\n",
       "        vertical-align: top;\n",
       "    }\n",
       "\n",
       "    .dataframe thead th {\n",
       "        text-align: right;\n",
       "    }\n",
       "</style>\n",
       "<table border=\"1\" class=\"dataframe\">\n",
       "  <thead>\n",
       "    <tr style=\"text-align: right;\">\n",
       "      <th></th>\n",
       "      <th>Age</th>\n",
       "      <th>Gender</th>\n",
       "      <th>EducationLevel</th>\n",
       "      <th>YearsOfExperience</th>\n",
       "      <th>Salary</th>\n",
       "    </tr>\n",
       "  </thead>\n",
       "  <tbody>\n",
       "    <tr>\n",
       "      <th>0</th>\n",
       "      <td>32.0</td>\n",
       "      <td>0</td>\n",
       "      <td>0</td>\n",
       "      <td>5.0</td>\n",
       "      <td>90000.0</td>\n",
       "    </tr>\n",
       "    <tr>\n",
       "      <th>1</th>\n",
       "      <td>28.0</td>\n",
       "      <td>1</td>\n",
       "      <td>1</td>\n",
       "      <td>3.0</td>\n",
       "      <td>65000.0</td>\n",
       "    </tr>\n",
       "    <tr>\n",
       "      <th>2</th>\n",
       "      <td>45.0</td>\n",
       "      <td>0</td>\n",
       "      <td>2</td>\n",
       "      <td>15.0</td>\n",
       "      <td>150000.0</td>\n",
       "    </tr>\n",
       "    <tr>\n",
       "      <th>3</th>\n",
       "      <td>36.0</td>\n",
       "      <td>1</td>\n",
       "      <td>0</td>\n",
       "      <td>7.0</td>\n",
       "      <td>60000.0</td>\n",
       "    </tr>\n",
       "    <tr>\n",
       "      <th>4</th>\n",
       "      <td>52.0</td>\n",
       "      <td>0</td>\n",
       "      <td>1</td>\n",
       "      <td>20.0</td>\n",
       "      <td>200000.0</td>\n",
       "    </tr>\n",
       "  </tbody>\n",
       "</table>\n",
       "</div>"
      ],
      "text/plain": [
       "    Age  Gender  EducationLevel  YearsOfExperience    Salary\n",
       "0  32.0       0               0                5.0   90000.0\n",
       "1  28.0       1               1                3.0   65000.0\n",
       "2  45.0       0               2               15.0  150000.0\n",
       "3  36.0       1               0                7.0   60000.0\n",
       "4  52.0       0               1               20.0  200000.0"
      ]
     },
     "execution_count": 104,
     "metadata": {},
     "output_type": "execute_result"
    }
   ],
   "source": [
    "salary.head()"
   ]
  },
  {
   "cell_type": "code",
   "execution_count": 105,
   "metadata": {},
   "outputs": [],
   "source": [
    "def print_coef_std_err(results):\n",
    "    \"\"\"\n",
    "    Function to combine estimated coefficients and standard error in one DataFrame\n",
    "    :param results: <statsmodels RegressionResultsWrapper> OLS regression results from statsmodel\n",
    "    :return df: <pandas DataFrame>  combined estimated coefficient and standard error of model estimate\n",
    "    \"\"\"\n",
    "    coef = results.params\n",
    "    std_err = results.bse\n",
    "    \n",
    "    df = pd.DataFrame(data = np.transpose([coef, std_err]), \n",
    "                      index = coef.index, \n",
    "                      columns=[\"coef\",\"std err\"])\n",
    "    return df"
   ]
  },
  {
   "cell_type": "code",
   "execution_count": 106,
   "metadata": {},
   "outputs": [
    {
     "data": {
      "text/html": [
       "<div>\n",
       "<style scoped>\n",
       "    .dataframe tbody tr th:only-of-type {\n",
       "        vertical-align: middle;\n",
       "    }\n",
       "\n",
       "    .dataframe tbody tr th {\n",
       "        vertical-align: top;\n",
       "    }\n",
       "\n",
       "    .dataframe thead th {\n",
       "        text-align: right;\n",
       "    }\n",
       "</style>\n",
       "<table border=\"1\" class=\"dataframe\">\n",
       "  <thead>\n",
       "    <tr style=\"text-align: right;\">\n",
       "      <th></th>\n",
       "      <th>coef</th>\n",
       "      <th>std err</th>\n",
       "    </tr>\n",
       "  </thead>\n",
       "  <tbody>\n",
       "    <tr>\n",
       "      <th>Intercept</th>\n",
       "      <td>31959.508721</td>\n",
       "      <td>1873.552736</td>\n",
       "    </tr>\n",
       "    <tr>\n",
       "      <th>YearsOfExperience</th>\n",
       "      <td>6762.954641</td>\n",
       "      <td>155.446221</td>\n",
       "    </tr>\n",
       "  </tbody>\n",
       "</table>\n",
       "</div>"
      ],
      "text/plain": [
       "                           coef      std err\n",
       "Intercept          31959.508721  1873.552736\n",
       "YearsOfExperience   6762.954641   155.446221"
      ]
     },
     "execution_count": 106,
     "metadata": {},
     "output_type": "execute_result"
    }
   ],
   "source": [
    "model = smf.ols('Salary ~ YearsOfExperience', salary)\n",
    "results = model.fit()\n",
    "results_salary = print_coef_std_err(results)\n",
    "results_salary"
   ]
  },
  {
   "cell_type": "code",
   "execution_count": 107,
   "metadata": {},
   "outputs": [
    {
     "data": {
      "text/plain": [
       "0.8546166681460778"
      ]
     },
     "execution_count": 107,
     "metadata": {},
     "output_type": "execute_result"
    }
   ],
   "source": [
    "results.rsquared"
   ]
  },
  {
   "cell_type": "markdown",
   "metadata": {},
   "source": [
    "#### **Persamaan Regresi Linear**\n",
    "\n",
    "Setelah didapatkan rsquared dengan nilai $0.8546166681460778$, intercept dengan nilai $31959.508721$ dan coeficient dengan nilai $6762.954641$, maka untuk model persamaan regresi linear dari `YearsOfExperience` terhadap `Salary` adalah:\n",
    "$$\n",
    "\\text{Salary} = 331959.508721 + 6762.954641 \\times \\text{Years of Experience}\n",
    "$$"
   ]
  },
  {
   "cell_type": "code",
   "execution_count": 108,
   "metadata": {},
   "outputs": [
    {
     "data": {
      "image/png": "[encoded data removed]",
      "text/plain": [
       "<Figure size 640x480 with 1 Axes>"
      ]
     },
     "metadata": {},
     "output_type": "display_data"
    }
   ],
   "source": [
    "#Visualization\n",
    "predictor = \"YearsOfExperience\"\n",
    "outcome = \"Salary\"\n",
    "data = salary.copy()\n",
    "results_ = results_salary.copy()\n",
    "plt.scatter(data[predictor], data[outcome], color = \"k\", marker=\".\")\n",
    "\n",
    "# Calculate the fitted values\n",
    "a_hat = results_.loc[\"Intercept\"][\"coef\"]\n",
    "b_hat = results_.loc[predictor][\"coef\"]\n",
    "x_domain = np.linspace(np.min(data[predictor]), np.max(data[predictor]), 10000)\n",
    "fitted_values = a_hat + b_hat * x_domain\n",
    "\n",
    "# Show the plot\n",
    "plt.plot(x_domain, fitted_values, label=\"Fitted line\", color = \"red\")\n",
    "plt.ylabel(outcome)\n",
    "plt.xlabel(predictor)\n",
    "plt.title(\"Data and Fitted Regression Line Plot\")\n",
    "plt.show()"
   ]
  },
  {
   "cell_type": "code",
   "execution_count": 109,
   "metadata": {},
   "outputs": [
    {
     "data": {
      "image/png": "[encoded data removed]",
      "text/plain": [
       "<Figure size 640x480 with 1 Axes>"
      ]
     },
     "metadata": {},
     "output_type": "display_data"
    }
   ],
   "source": [
    "# Residual Plot\n",
    "plt.scatter(results.fittedvalues, results.resid, marker=\".\", c = \"k\")\n",
    "plt.axhline([0])\n",
    "plt.xlabel(\"predicted mpg\")\n",
    "plt.ylabel(\"residual\")\n",
    "plt.title(f\"Residuals Plot vs Predicted mpg\")\n",
    "plt.show()"
   ]
  },
  {
   "cell_type": "code",
   "execution_count": 110,
   "metadata": {},
   "outputs": [
    {
     "data": {
      "text/plain": [
       "0.8546166681460778"
      ]
     },
     "execution_count": 110,
     "metadata": {},
     "output_type": "execute_result"
    }
   ],
   "source": [
    "results.rsquared"
   ]
  },
  {
   "cell_type": "code",
   "execution_count": 111,
   "metadata": {},
   "outputs": [
    {
     "data": {
      "image/png": "[encoded data removed]",
      "text/plain": [
       "<Figure size 640x480 with 1 Axes>"
      ]
     },
     "metadata": {},
     "output_type": "display_data"
    }
   ],
   "source": [
    "# Normality of Error Assumption\n",
    "plt.hist(results.resid, color='tab:orange', alpha=0.4)\n",
    "plt.xlabel(\"residual\")\n",
    "plt.ylabel(\"count\")\n",
    "plt.title(f\"Normality of Error Assumption\")\n",
    "plt.show()"
   ]
  },
  {
   "cell_type": "code",
   "execution_count": 112,
   "metadata": {},
   "outputs": [
    {
     "data": {
      "text/html": [
       "<div>\n",
       "<style scoped>\n",
       "    .dataframe tbody tr th:only-of-type {\n",
       "        vertical-align: middle;\n",
       "    }\n",
       "\n",
       "    .dataframe tbody tr th {\n",
       "        vertical-align: top;\n",
       "    }\n",
       "\n",
       "    .dataframe thead th {\n",
       "        text-align: right;\n",
       "    }\n",
       "</style>\n",
       "<table border=\"1\" class=\"dataframe\">\n",
       "  <thead>\n",
       "    <tr style=\"text-align: right;\">\n",
       "      <th></th>\n",
       "      <th>Age</th>\n",
       "      <th>Gender</th>\n",
       "      <th>EducationLevel</th>\n",
       "      <th>YearsOfExperience</th>\n",
       "      <th>Salary</th>\n",
       "      <th>logYOE</th>\n",
       "    </tr>\n",
       "  </thead>\n",
       "  <tbody>\n",
       "    <tr>\n",
       "      <th>count</th>\n",
       "      <td>324.000000</td>\n",
       "      <td>324.000000</td>\n",
       "      <td>324.000000</td>\n",
       "      <td>324.000000</td>\n",
       "      <td>324.000000</td>\n",
       "      <td>324.000000</td>\n",
       "    </tr>\n",
       "    <tr>\n",
       "      <th>mean</th>\n",
       "      <td>37.382716</td>\n",
       "      <td>0.475309</td>\n",
       "      <td>0.540123</td>\n",
       "      <td>10.058642</td>\n",
       "      <td>99985.648148</td>\n",
       "      <td>2.005576</td>\n",
       "    </tr>\n",
       "    <tr>\n",
       "      <th>std</th>\n",
       "      <td>7.185844</td>\n",
       "      <td>0.500162</td>\n",
       "      <td>0.713597</td>\n",
       "      <td>6.650470</td>\n",
       "      <td>48652.271440</td>\n",
       "      <td>0.874208</td>\n",
       "    </tr>\n",
       "    <tr>\n",
       "      <th>min</th>\n",
       "      <td>23.000000</td>\n",
       "      <td>0.000000</td>\n",
       "      <td>0.000000</td>\n",
       "      <td>0.000000</td>\n",
       "      <td>350.000000</td>\n",
       "      <td>-0.693147</td>\n",
       "    </tr>\n",
       "    <tr>\n",
       "      <th>25%</th>\n",
       "      <td>31.000000</td>\n",
       "      <td>0.000000</td>\n",
       "      <td>0.000000</td>\n",
       "      <td>4.000000</td>\n",
       "      <td>55000.000000</td>\n",
       "      <td>1.386294</td>\n",
       "    </tr>\n",
       "    <tr>\n",
       "      <th>50%</th>\n",
       "      <td>36.500000</td>\n",
       "      <td>0.000000</td>\n",
       "      <td>0.000000</td>\n",
       "      <td>9.000000</td>\n",
       "      <td>95000.000000</td>\n",
       "      <td>2.197225</td>\n",
       "    </tr>\n",
       "    <tr>\n",
       "      <th>75%</th>\n",
       "      <td>44.000000</td>\n",
       "      <td>1.000000</td>\n",
       "      <td>1.000000</td>\n",
       "      <td>16.000000</td>\n",
       "      <td>140000.000000</td>\n",
       "      <td>2.772589</td>\n",
       "    </tr>\n",
       "    <tr>\n",
       "      <th>max</th>\n",
       "      <td>53.000000</td>\n",
       "      <td>1.000000</td>\n",
       "      <td>2.000000</td>\n",
       "      <td>25.000000</td>\n",
       "      <td>250000.000000</td>\n",
       "      <td>3.218876</td>\n",
       "    </tr>\n",
       "  </tbody>\n",
       "</table>\n",
       "</div>"
      ],
      "text/plain": [
       "              Age      Gender  EducationLevel  YearsOfExperience  \\\n",
       "count  324.000000  324.000000      324.000000         324.000000   \n",
       "mean    37.382716    0.475309        0.540123          10.058642   \n",
       "std      7.185844    0.500162        0.713597           6.650470   \n",
       "min     23.000000    0.000000        0.000000           0.000000   \n",
       "25%     31.000000    0.000000        0.000000           4.000000   \n",
       "50%     36.500000    0.000000        0.000000           9.000000   \n",
       "75%     44.000000    1.000000        1.000000          16.000000   \n",
       "max     53.000000    1.000000        2.000000          25.000000   \n",
       "\n",
       "              Salary      logYOE  \n",
       "count     324.000000  324.000000  \n",
       "mean    99985.648148    2.005576  \n",
       "std     48652.271440    0.874208  \n",
       "min       350.000000   -0.693147  \n",
       "25%     55000.000000    1.386294  \n",
       "50%     95000.000000    2.197225  \n",
       "75%    140000.000000    2.772589  \n",
       "max    250000.000000    3.218876  "
      ]
     },
     "execution_count": 112,
     "metadata": {},
     "output_type": "execute_result"
    }
   ],
   "source": [
    "# Fit Linear Regression with Log Transform on Weight Variable\n",
    "salary[\"logYOE\"] = np.log(salary[\"YearsOfExperience\"])\n",
    "salary.loc[salary[\"YearsOfExperience\"] == 0, \"logYOE\"] = 0\n",
    "salary.describe()"
   ]
  },
  {
   "cell_type": "code",
   "execution_count": 113,
   "metadata": {},
   "outputs": [
    {
     "data": {
      "text/plain": [
       "0.7656239539695424"
      ]
     },
     "execution_count": 113,
     "metadata": {},
     "output_type": "execute_result"
    }
   ],
   "source": [
    "# Create OLS\n",
    "model = smf.ols(\"Salary ~ logYOE\", salary)\n",
    "results_logtransform = model.fit()\n",
    "results_salary_log = print_coef_std_err(results_logtransform)\n",
    "results_logtransform.rsquared"
   ]
  },
  {
   "cell_type": "code",
   "execution_count": 114,
   "metadata": {},
   "outputs": [
    {
     "data": {
      "text/html": [
       "<div>\n",
       "<style scoped>\n",
       "    .dataframe tbody tr th:only-of-type {\n",
       "        vertical-align: middle;\n",
       "    }\n",
       "\n",
       "    .dataframe tbody tr th {\n",
       "        vertical-align: top;\n",
       "    }\n",
       "\n",
       "    .dataframe thead th {\n",
       "        text-align: right;\n",
       "    }\n",
       "</style>\n",
       "<table border=\"1\" class=\"dataframe\">\n",
       "  <thead>\n",
       "    <tr style=\"text-align: right;\">\n",
       "      <th></th>\n",
       "      <th>Age</th>\n",
       "      <th>Gender</th>\n",
       "      <th>EducationLevel</th>\n",
       "      <th>YearsOfExperience</th>\n",
       "      <th>Salary</th>\n",
       "    </tr>\n",
       "  </thead>\n",
       "  <tbody>\n",
       "    <tr>\n",
       "      <th>0</th>\n",
       "      <td>32.0</td>\n",
       "      <td>0</td>\n",
       "      <td>0</td>\n",
       "      <td>5.0</td>\n",
       "      <td>90000.0</td>\n",
       "    </tr>\n",
       "    <tr>\n",
       "      <th>1</th>\n",
       "      <td>28.0</td>\n",
       "      <td>1</td>\n",
       "      <td>1</td>\n",
       "      <td>3.0</td>\n",
       "      <td>65000.0</td>\n",
       "    </tr>\n",
       "    <tr>\n",
       "      <th>2</th>\n",
       "      <td>45.0</td>\n",
       "      <td>0</td>\n",
       "      <td>2</td>\n",
       "      <td>15.0</td>\n",
       "      <td>150000.0</td>\n",
       "    </tr>\n",
       "    <tr>\n",
       "      <th>3</th>\n",
       "      <td>36.0</td>\n",
       "      <td>1</td>\n",
       "      <td>0</td>\n",
       "      <td>7.0</td>\n",
       "      <td>60000.0</td>\n",
       "    </tr>\n",
       "    <tr>\n",
       "      <th>4</th>\n",
       "      <td>52.0</td>\n",
       "      <td>0</td>\n",
       "      <td>1</td>\n",
       "      <td>20.0</td>\n",
       "      <td>200000.0</td>\n",
       "    </tr>\n",
       "  </tbody>\n",
       "</table>\n",
       "</div>"
      ],
      "text/plain": [
       "    Age  Gender  EducationLevel  YearsOfExperience    Salary\n",
       "0  32.0       0               0                5.0   90000.0\n",
       "1  28.0       1               1                3.0   65000.0\n",
       "2  45.0       0               2               15.0  150000.0\n",
       "3  36.0       1               0                7.0   60000.0\n",
       "4  52.0       0               1               20.0  200000.0"
      ]
     },
     "execution_count": 114,
     "metadata": {},
     "output_type": "execute_result"
    }
   ],
   "source": [
    "# Multiple Predictors Modelling\n",
    "salary.drop(\"logYOE\", axis=1, inplace=True)\n",
    "salary.head()"
   ]
  },
  {
   "cell_type": "code",
   "execution_count": 115,
   "metadata": {},
   "outputs": [],
   "source": [
    "class StatsmodelsRegressor(BaseEstimator, RegressorMixin):\n",
    "    \"\"\" A universal sklearn-style wrapper for statsmodels regressors \"\"\"\n",
    "    \n",
    "    def __init__(self, sm_class, sm_formula):\n",
    "        self.sm_class = sm_class\n",
    "        self.sm_formula = sm_formula\n",
    "        self.model = None\n",
    "        self.result = None\n",
    " \n",
    "    def fit(self, data, dummy):\n",
    "        self.model = self.sm_class(self.sm_formula, data)\n",
    "        self.result = self.model.fit()\n",
    " \n",
    "    def predict(self,X):\n",
    "        return self.result.predict(X)"
   ]
  },
  {
   "cell_type": "code",
   "execution_count": 116,
   "metadata": {},
   "outputs": [],
   "source": [
    "def kfold_split(data, n_fold):\n",
    "    \"\"\"\n",
    "    Function to combine estimated coefficients and standard error in one DataFrame\n",
    "    :param data: <pandas DataFrame> \n",
    "    :param n_fold: <int> Number of fold in k-fold CV\n",
    "    :return fold_train: <pandas DataFrame> Training Data\n",
    "    :return fold_test: <pandas DataFrame> Testing Data\n",
    "    \"\"\"\n",
    "    kfold = KFold(n_splits = n_fold, shuffle = True, random_state=123)\n",
    "    fold_train = {}\n",
    "    fold_test = {}\n",
    "\n",
    "    for i, (train, test) in enumerate(kfold.split(data)):\n",
    "        print(f\"fold {i+1}, train data rows: {len(train)}, test data rows: {len(test)}\")\n",
    "        fold_train[i] = data.iloc[train].copy()\n",
    "        fold_test[i] = data.iloc[test].copy()\n",
    "        \n",
    "    return (fold_train, fold_test)"
   ]
  },
  {
   "cell_type": "code",
   "execution_count": 117,
   "metadata": {},
   "outputs": [
    {
     "data": {
      "text/html": [
       "<div>\n",
       "<style scoped>\n",
       "    .dataframe tbody tr th:only-of-type {\n",
       "        vertical-align: middle;\n",
       "    }\n",
       "\n",
       "    .dataframe tbody tr th {\n",
       "        vertical-align: top;\n",
       "    }\n",
       "\n",
       "    .dataframe thead th {\n",
       "        text-align: right;\n",
       "    }\n",
       "</style>\n",
       "<table border=\"1\" class=\"dataframe\">\n",
       "  <thead>\n",
       "    <tr style=\"text-align: right;\">\n",
       "      <th></th>\n",
       "      <th>test_rsquared</th>\n",
       "      <th>folds</th>\n",
       "    </tr>\n",
       "  </thead>\n",
       "  <tbody>\n",
       "    <tr>\n",
       "      <th>0</th>\n",
       "      <td>0.892141</td>\n",
       "      <td>Folds 1</td>\n",
       "    </tr>\n",
       "    <tr>\n",
       "      <th>1</th>\n",
       "      <td>0.902729</td>\n",
       "      <td>Folds 2</td>\n",
       "    </tr>\n",
       "    <tr>\n",
       "      <th>2</th>\n",
       "      <td>0.912515</td>\n",
       "      <td>Folds 3</td>\n",
       "    </tr>\n",
       "    <tr>\n",
       "      <th>3</th>\n",
       "      <td>0.825113</td>\n",
       "      <td>Folds 4</td>\n",
       "    </tr>\n",
       "    <tr>\n",
       "      <th>4</th>\n",
       "      <td>0.897267</td>\n",
       "      <td>Folds 5</td>\n",
       "    </tr>\n",
       "  </tbody>\n",
       "</table>\n",
       "</div>"
      ],
      "text/plain": [
       "   test_rsquared    folds\n",
       "0       0.892141  Folds 1\n",
       "1       0.902729  Folds 2\n",
       "2       0.912515  Folds 3\n",
       "3       0.825113  Folds 4\n",
       "4       0.897267  Folds 5"
      ]
     },
     "execution_count": 117,
     "metadata": {},
     "output_type": "execute_result"
    }
   ],
   "source": [
    "#Evaluate a model using K-fold cross validation\n",
    "# Create a class model\n",
    "ols_all_pred = StatsmodelsRegressor(\n",
    "    smf.ols, \"Salary ~ Age + Gender + C(EducationLevel) + YearsOfExperience + Age:YearsOfExperience\")\n",
    "\n",
    "# Create k-fold splitter object\n",
    "kfold = KFold(n_splits=5, shuffle = True, random_state=123)\n",
    "scores_ols_all_pred = cross_val_score(\n",
    "    estimator = ols_all_pred, X = salary, y = salary[\"Salary\"], cv = kfold,scoring = \"r2\")\n",
    "scores_ols_all_pred = pd.DataFrame(data = scores_ols_all_pred, columns=[\"test_rsquared\"])\n",
    "scores_ols_all_pred[\"folds\"] = [f\"Folds {i+1}\" for i in range(5)]\n",
    "scores_ols_all_pred"
   ]
  },
  {
   "cell_type": "code",
   "execution_count": 118,
   "metadata": {},
   "outputs": [
    {
     "data": {
      "text/plain": [
       "0.8859529642576712"
      ]
     },
     "execution_count": 118,
     "metadata": {},
     "output_type": "execute_result"
    }
   ],
   "source": [
    "scores_ols_all_pred[\"test_rsquared\"].mean()"
   ]
  },
  {
   "cell_type": "code",
   "execution_count": 119,
   "metadata": {},
   "outputs": [
    {
     "data": {
      "text/html": [
       "<div>\n",
       "<style scoped>\n",
       "    .dataframe tbody tr th:only-of-type {\n",
       "        vertical-align: middle;\n",
       "    }\n",
       "\n",
       "    .dataframe tbody tr th {\n",
       "        vertical-align: top;\n",
       "    }\n",
       "\n",
       "    .dataframe thead th {\n",
       "        text-align: right;\n",
       "    }\n",
       "</style>\n",
       "<table border=\"1\" class=\"dataframe\">\n",
       "  <thead>\n",
       "    <tr style=\"text-align: right;\">\n",
       "      <th></th>\n",
       "      <th>coef</th>\n",
       "      <th>std err</th>\n",
       "    </tr>\n",
       "  </thead>\n",
       "  <tbody>\n",
       "    <tr>\n",
       "      <th>Intercept</th>\n",
       "      <td>-44159.185552</td>\n",
       "      <td>16580.736611</td>\n",
       "    </tr>\n",
       "    <tr>\n",
       "      <th>C(EducationLevel)[T.1]</th>\n",
       "      <td>19574.074815</td>\n",
       "      <td>2257.344892</td>\n",
       "    </tr>\n",
       "    <tr>\n",
       "      <th>C(EducationLevel)[T.2]</th>\n",
       "      <td>26339.473807</td>\n",
       "      <td>3160.610738</td>\n",
       "    </tr>\n",
       "    <tr>\n",
       "      <th>Age</th>\n",
       "      <td>3042.039143</td>\n",
       "      <td>611.919060</td>\n",
       "    </tr>\n",
       "    <tr>\n",
       "      <th>Gender</th>\n",
       "      <td>-9310.571777</td>\n",
       "      <td>1766.475849</td>\n",
       "    </tr>\n",
       "    <tr>\n",
       "      <th>YearsOfExperience</th>\n",
       "      <td>2433.641886</td>\n",
       "      <td>1211.995905</td>\n",
       "    </tr>\n",
       "    <tr>\n",
       "      <th>Age:YearsOfExperience</th>\n",
       "      <td>3.452762</td>\n",
       "      <td>21.044653</td>\n",
       "    </tr>\n",
       "  </tbody>\n",
       "</table>\n",
       "</div>"
      ],
      "text/plain": [
       "                                coef       std err\n",
       "Intercept              -44159.185552  16580.736611\n",
       "C(EducationLevel)[T.1]  19574.074815   2257.344892\n",
       "C(EducationLevel)[T.2]  26339.473807   3160.610738\n",
       "Age                      3042.039143    611.919060\n",
       "Gender                  -9310.571777   1766.475849\n",
       "YearsOfExperience        2433.641886   1211.995905\n",
       "Age:YearsOfExperience       3.452762     21.044653"
      ]
     },
     "execution_count": 119,
     "metadata": {},
     "output_type": "execute_result"
    }
   ],
   "source": [
    "# Fit Linear Regression Using All Predictors\n",
    "# Create OLS model\n",
    "model = smf.ols(\"Salary ~ Age + Gender + C(EducationLevel) + YearsOfExperience + Age:YearsOfExperience\", salary)\n",
    "results_model_salary = model.fit()\n",
    "results_salary = print_coef_std_err(results_model_salary)\n",
    "results_salary"
   ]
  },
  {
   "cell_type": "code",
   "execution_count": 120,
   "metadata": {},
   "outputs": [
    {
     "data": {
      "text/html": [
       "<div>\n",
       "<style scoped>\n",
       "    .dataframe tbody tr th:only-of-type {\n",
       "        vertical-align: middle;\n",
       "    }\n",
       "\n",
       "    .dataframe tbody tr th {\n",
       "        vertical-align: top;\n",
       "    }\n",
       "\n",
       "    .dataframe thead th {\n",
       "        text-align: right;\n",
       "    }\n",
       "</style>\n",
       "<table border=\"1\" class=\"dataframe\">\n",
       "  <thead>\n",
       "    <tr style=\"text-align: right;\">\n",
       "      <th></th>\n",
       "      <th>AgeCentered</th>\n",
       "      <th>Gender</th>\n",
       "      <th>EducationLevel</th>\n",
       "      <th>YearsOfExperience</th>\n",
       "      <th>Salary</th>\n",
       "    </tr>\n",
       "  </thead>\n",
       "  <tbody>\n",
       "    <tr>\n",
       "      <th>0</th>\n",
       "      <td>-5.0</td>\n",
       "      <td>0</td>\n",
       "      <td>0</td>\n",
       "      <td>5.0</td>\n",
       "      <td>90000.0</td>\n",
       "    </tr>\n",
       "    <tr>\n",
       "      <th>1</th>\n",
       "      <td>-9.0</td>\n",
       "      <td>1</td>\n",
       "      <td>1</td>\n",
       "      <td>3.0</td>\n",
       "      <td>65000.0</td>\n",
       "    </tr>\n",
       "    <tr>\n",
       "      <th>2</th>\n",
       "      <td>8.0</td>\n",
       "      <td>0</td>\n",
       "      <td>2</td>\n",
       "      <td>15.0</td>\n",
       "      <td>150000.0</td>\n",
       "    </tr>\n",
       "    <tr>\n",
       "      <th>3</th>\n",
       "      <td>-1.0</td>\n",
       "      <td>1</td>\n",
       "      <td>0</td>\n",
       "      <td>7.0</td>\n",
       "      <td>60000.0</td>\n",
       "    </tr>\n",
       "    <tr>\n",
       "      <th>4</th>\n",
       "      <td>15.0</td>\n",
       "      <td>0</td>\n",
       "      <td>1</td>\n",
       "      <td>20.0</td>\n",
       "      <td>200000.0</td>\n",
       "    </tr>\n",
       "  </tbody>\n",
       "</table>\n",
       "</div>"
      ],
      "text/plain": [
       "   AgeCentered  Gender  EducationLevel  YearsOfExperience    Salary\n",
       "0         -5.0       0               0                5.0   90000.0\n",
       "1         -9.0       1               1                3.0   65000.0\n",
       "2          8.0       0               2               15.0  150000.0\n",
       "3         -1.0       1               0                7.0   60000.0\n",
       "4         15.0       0               1               20.0  200000.0"
      ]
     },
     "execution_count": 120,
     "metadata": {},
     "output_type": "execute_result"
    }
   ],
   "source": [
    "# Centering Predictor Age\n",
    "mean_age = salary[\"Age\"].mean()\n",
    "mean_age = np.round(mean_age,0)\n",
    "mean_age\n",
    "\n",
    "salary[\"Age\"] = salary[\"Age\"]-mean_age\n",
    "salary.rename(columns = {\"Age\":\"AgeCentered\"}, inplace=True)\n",
    "salary.head()"
   ]
  },
  {
   "cell_type": "code",
   "execution_count": 121,
   "metadata": {},
   "outputs": [
    {
     "data": {
      "text/html": [
       "<div>\n",
       "<style scoped>\n",
       "    .dataframe tbody tr th:only-of-type {\n",
       "        vertical-align: middle;\n",
       "    }\n",
       "\n",
       "    .dataframe tbody tr th {\n",
       "        vertical-align: top;\n",
       "    }\n",
       "\n",
       "    .dataframe thead th {\n",
       "        text-align: right;\n",
       "    }\n",
       "</style>\n",
       "<table border=\"1\" class=\"dataframe\">\n",
       "  <thead>\n",
       "    <tr style=\"text-align: right;\">\n",
       "      <th></th>\n",
       "      <th>test_rsquared</th>\n",
       "      <th>folds</th>\n",
       "    </tr>\n",
       "  </thead>\n",
       "  <tbody>\n",
       "    <tr>\n",
       "      <th>0</th>\n",
       "      <td>0.849681</td>\n",
       "      <td>Folds 1</td>\n",
       "    </tr>\n",
       "    <tr>\n",
       "      <th>1</th>\n",
       "      <td>0.907836</td>\n",
       "      <td>Folds 2</td>\n",
       "    </tr>\n",
       "    <tr>\n",
       "      <th>2</th>\n",
       "      <td>0.873470</td>\n",
       "      <td>Folds 3</td>\n",
       "    </tr>\n",
       "    <tr>\n",
       "      <th>3</th>\n",
       "      <td>0.938117</td>\n",
       "      <td>Folds 4</td>\n",
       "    </tr>\n",
       "    <tr>\n",
       "      <th>4</th>\n",
       "      <td>0.881399</td>\n",
       "      <td>Folds 5</td>\n",
       "    </tr>\n",
       "  </tbody>\n",
       "</table>\n",
       "</div>"
      ],
      "text/plain": [
       "   test_rsquared    folds\n",
       "0       0.849681  Folds 1\n",
       "1       0.907836  Folds 2\n",
       "2       0.873470  Folds 3\n",
       "3       0.938117  Folds 4\n",
       "4       0.881399  Folds 5"
      ]
     },
     "execution_count": 121,
     "metadata": {},
     "output_type": "execute_result"
    }
   ],
   "source": [
    "# Create a class model\n",
    "ols_all_pred = StatsmodelsRegressor(\n",
    "    smf.ols, \"Salary ~ AgeCentered + Gender + C(EducationLevel) + YearsOfExperience + AgeCentered:YearsOfExperience\")\n",
    "\n",
    "# Create k-fold splitter\n",
    "kfold = KFold(n_splits=5, shuffle = True, random_state=12)\n",
    "scores_ols_all_pred = cross_val_score(\n",
    "    estimator = ols_all_pred, X = salary, y = salary[\"Salary\"], cv = kfold, scoring = \"r2\")\n",
    "scores_ols_all_pred = pd.DataFrame(data = scores_ols_all_pred, columns=[\"test_rsquared\"])\n",
    "scores_ols_all_pred[\"folds\"] = [f\"Folds {i+1}\" for i in range(5)]\n",
    "scores_ols_all_pred"
   ]
  },
  {
   "cell_type": "code",
   "execution_count": 122,
   "metadata": {},
   "outputs": [
    {
     "data": {
      "text/plain": [
       "0.890100702896922"
      ]
     },
     "execution_count": 122,
     "metadata": {},
     "output_type": "execute_result"
    }
   ],
   "source": [
    "scores_ols_all_pred[\"test_rsquared\"].mean()"
   ]
  },
  {
   "cell_type": "markdown",
   "metadata": {},
   "source": [
    "- permodelan yang digunakan pada semua media memiliki kecocokan yang baik\n",
    "- karena dapat menjelaskan 89% variance salary pada karyawan."
   ]
  },
  {
   "cell_type": "code",
   "execution_count": 123,
   "metadata": {},
   "outputs": [
    {
     "data": {
      "text/html": [
       "<div>\n",
       "<style scoped>\n",
       "    .dataframe tbody tr th:only-of-type {\n",
       "        vertical-align: middle;\n",
       "    }\n",
       "\n",
       "    .dataframe tbody tr th {\n",
       "        vertical-align: top;\n",
       "    }\n",
       "\n",
       "    .dataframe thead th {\n",
       "        text-align: right;\n",
       "    }\n",
       "</style>\n",
       "<table border=\"1\" class=\"dataframe\">\n",
       "  <thead>\n",
       "    <tr style=\"text-align: right;\">\n",
       "      <th></th>\n",
       "      <th>coef</th>\n",
       "      <th>std err</th>\n",
       "    </tr>\n",
       "  </thead>\n",
       "  <tbody>\n",
       "    <tr>\n",
       "      <th>Intercept</th>\n",
       "      <td>68396.262743</td>\n",
       "      <td>6722.803498</td>\n",
       "    </tr>\n",
       "    <tr>\n",
       "      <th>C(EducationLevel)[T.1]</th>\n",
       "      <td>19574.074815</td>\n",
       "      <td>2257.344892</td>\n",
       "    </tr>\n",
       "    <tr>\n",
       "      <th>C(EducationLevel)[T.2]</th>\n",
       "      <td>26339.473807</td>\n",
       "      <td>3160.610738</td>\n",
       "    </tr>\n",
       "    <tr>\n",
       "      <th>AgeCentered</th>\n",
       "      <td>3042.039143</td>\n",
       "      <td>611.919060</td>\n",
       "    </tr>\n",
       "    <tr>\n",
       "      <th>Gender</th>\n",
       "      <td>-9310.571777</td>\n",
       "      <td>1766.475849</td>\n",
       "    </tr>\n",
       "    <tr>\n",
       "      <th>YearsOfExperience</th>\n",
       "      <td>2561.394070</td>\n",
       "      <td>714.405923</td>\n",
       "    </tr>\n",
       "    <tr>\n",
       "      <th>AgeCentered:YearsOfExperience</th>\n",
       "      <td>3.452762</td>\n",
       "      <td>21.044653</td>\n",
       "    </tr>\n",
       "  </tbody>\n",
       "</table>\n",
       "</div>"
      ],
      "text/plain": [
       "                                       coef      std err\n",
       "Intercept                      68396.262743  6722.803498\n",
       "C(EducationLevel)[T.1]         19574.074815  2257.344892\n",
       "C(EducationLevel)[T.2]         26339.473807  3160.610738\n",
       "AgeCentered                     3042.039143   611.919060\n",
       "Gender                         -9310.571777  1766.475849\n",
       "YearsOfExperience               2561.394070   714.405923\n",
       "AgeCentered:YearsOfExperience      3.452762    21.044653"
      ]
     },
     "execution_count": 123,
     "metadata": {},
     "output_type": "execute_result"
    }
   ],
   "source": [
    "# Create OLS model\n",
    "model = smf.ols(\n",
    "    'Salary ~ AgeCentered + Gender + C(EducationLevel) + YearsOfExperience + AgeCentered:YearsOfExperience', salary)\n",
    "results = model.fit()\n",
    "results_salary = print_coef_std_err(results)\n",
    "results_salary"
   ]
  },
  {
   "cell_type": "code",
   "execution_count": 124,
   "metadata": {},
   "outputs": [
    {
     "data": {
      "image/png": "[encoded data removed]",
      "text/plain": [
       "<Figure size 640x480 with 1 Axes>"
      ]
     },
     "metadata": {},
     "output_type": "display_data"
    }
   ],
   "source": [
    "# Residual Plot and Explained Variance\n",
    "plt.scatter(results.fittedvalues, results.resid, marker=\".\", c = \"k\")\n",
    "plt.axhline([0])\n",
    "plt.xlabel(\"predicted mpg\")\n",
    "plt.ylabel(\"residual\")\n",
    "plt.title(f\"Residuals vs. Predicted mpg Plot\")\n",
    "plt.show()"
   ]
  },
  {
   "cell_type": "code",
   "execution_count": 125,
   "metadata": {},
   "outputs": [
    {
     "data": {
      "image/png": "[encoded data removed]",
      "text/plain": [
       "<Figure size 640x480 with 1 Axes>"
      ]
     },
     "metadata": {},
     "output_type": "display_data"
    }
   ],
   "source": [
    "# Normality of Error Assumption\n",
    "plt.hist(results.resid, color='tab:orange', alpha=0.4)\n",
    "plt.xlabel(\"residual\")\n",
    "plt.ylabel(\"count\")\n",
    "plt.title(f\"Normality of Error Assumption Barplot\")\n",
    "plt.show()"
   ]
  },
  {
   "cell_type": "markdown",
   "metadata": {},
   "source": [
    "### **Information for this Project**\n",
    "\n",
    "Link untuk penjelasan terkait Project ini ada pada link Medium berikut:\n",
    "- [Statistics For Business — Linear Regression for Salary Prediction dataset](https://medium.com/@dharmayudafebrianto/statistics-for-business-linear-regression-for-salary-prediction-dataset-ec02ff0f6d30)\n"
   ]
  }
 ],
 "metadata": {
  "kernelspec": {
   "display_name": "base",
   "language": "python",
   "name": "python3"
  },
  "language_info": {
   "codemirror_mode": {
    "name": "ipython",
    "version": 3
   },
   "file_extension": ".py",
   "mimetype": "text/x-python",
   "name": "python",
   "nbconvert_exporter": "python",
   "pygments_lexer": "ipython3",
   "version": "3.9.13"
  }
 },
 "nbformat": 4,
 "nbformat_minor": 2
}
